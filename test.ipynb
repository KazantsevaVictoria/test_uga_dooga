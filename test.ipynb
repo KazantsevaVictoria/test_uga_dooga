{
 "cells": [
  {
   "cell_type": "markdown",
   "id": "e7c52a4a",
   "metadata": {
    "toc": true
   },
   "source": [
    "<h1>Table of Contents<span class=\"tocSkip\"></span></h1>\n",
    "<div class=\"toc\"><ul class=\"toc-item\"><li><span><a href=\"#Введение\" data-toc-modified-id=\"Введение-1\"><span class=\"toc-item-num\">1&nbsp;&nbsp;</span>Введение</a></span></li><li><span><a href=\"#Знакомство-с-данными\" data-toc-modified-id=\"Знакомство-с-данными-2\"><span class=\"toc-item-num\">2&nbsp;&nbsp;</span>Знакомство с данными</a></span><ul class=\"toc-item\"><li><span><a href=\"#Импорт-нужных-для-работы-библиотек\" data-toc-modified-id=\"Импорт-нужных-для-работы-библиотек-2.1\"><span class=\"toc-item-num\">2.1&nbsp;&nbsp;</span>Импорт нужных для работы библиотек</a></span></li><li><span><a href=\"#Предобработка-данных\" data-toc-modified-id=\"Предобработка-данных-2.2\"><span class=\"toc-item-num\">2.2&nbsp;&nbsp;</span>Предобработка данных</a></span></li><li><span><a href=\"#Распределение-данных-по-датам\" data-toc-modified-id=\"Распределение-данных-по-датам-2.3\"><span class=\"toc-item-num\">2.3&nbsp;&nbsp;</span>Распределение данных по датам</a></span></li></ul></li><li><span><a href=\"#Распределение-eCPM-пользователей-по-типу-рекламы\" data-toc-modified-id=\"Распределение-eCPM-пользователей-по-типу-рекламы-3\"><span class=\"toc-item-num\">3&nbsp;&nbsp;</span>Распределение eCPM пользователей по типу рекламы</a></span><ul class=\"toc-item\"><li><span><a href=\"#Распределение-eCPM-среди-пользователей-в-полноэкранной-рекламе\" data-toc-modified-id=\"Распределение-eCPM-среди-пользователей-в-полноэкранной-рекламе-3.1\"><span class=\"toc-item-num\">3.1&nbsp;&nbsp;</span>Распределение eCPM среди пользователей в полноэкранной рекламе</a></span></li><li><span><a href=\"#Распределение-eCPM-среди-пользователей-в-баннерной-рекламе\" data-toc-modified-id=\"Распределение-eCPM-среди-пользователей-в-баннерной-рекламе-3.2\"><span class=\"toc-item-num\">3.2&nbsp;&nbsp;</span>Распределение eCPM среди пользователей в баннерной рекламе</a></span></li><li><span><a href=\"#Распределение-eCPM-в-видеорекламе\" data-toc-modified-id=\"Распределение-eCPM-в-видеорекламе-3.3\"><span class=\"toc-item-num\">3.3&nbsp;&nbsp;</span>Распределение eCPM в видеорекламе</a></span></li></ul></li><li><span><a href=\"#Распределение-eCPM-по-версиям-ОС\" data-toc-modified-id=\"Распределение-eCPM-по-версиям-ОС-4\"><span class=\"toc-item-num\">4&nbsp;&nbsp;</span>Распределение eCPM по версиям ОС</a></span></li><li><span><a href=\"#Распределение-eCPM-по-городам\" data-toc-modified-id=\"Распределение-eCPM-по-городам-5\"><span class=\"toc-item-num\">5&nbsp;&nbsp;</span>Распределение eCPM по городам</a></span><ul class=\"toc-item\"><li><span><a href=\"#Распределение-eCPM-полноэкранной-рекламы\" data-toc-modified-id=\"Распределение-eCPM-полноэкранной-рекламы-5.1\"><span class=\"toc-item-num\">5.1&nbsp;&nbsp;</span>Распределение eCPM полноэкранной рекламы</a></span></li><li><span><a href=\"#Распределение-eCPM-баннерной-рекламы-в-городах\" data-toc-modified-id=\"Распределение-eCPM-баннерной-рекламы-в-городах-5.2\"><span class=\"toc-item-num\">5.2&nbsp;&nbsp;</span>Распределение eCPM баннерной рекламы в городах</a></span></li><li><span><a href=\"#Распределение-eCPM-видео-рекламы\" data-toc-modified-id=\"Распределение-eCPM-видео-рекламы-5.3\"><span class=\"toc-item-num\">5.3&nbsp;&nbsp;</span>Распределение eCPM видео рекламы</a></span></li></ul></li><li><span><a href=\"#Распределение-суммарных-доходов-по-городам-и-версиям-ОС\" data-toc-modified-id=\"Распределение-суммарных-доходов-по-городам-и-версиям-ОС-6\"><span class=\"toc-item-num\">6&nbsp;&nbsp;</span>Распределение суммарных доходов по городам и версиям ОС</a></span><ul class=\"toc-item\"><li><span><a href=\"#Распределение-суммарных-доходов-по-версиям-ОС\" data-toc-modified-id=\"Распределение-суммарных-доходов-по-версиям-ОС-6.1\"><span class=\"toc-item-num\">6.1&nbsp;&nbsp;</span>Распределение суммарных доходов по версиям ОС</a></span></li><li><span><a href=\"#Распределение-суммарных-доходов-по-городам\" data-toc-modified-id=\"Распределение-суммарных-доходов-по-городам-6.2\"><span class=\"toc-item-num\">6.2&nbsp;&nbsp;</span>Распределение суммарных доходов по городам</a></span></li></ul></li><li><span><a href=\"#Выводы-по-проведенному-исследованию\" data-toc-modified-id=\"Выводы-по-проведенному-исследованию-7\"><span class=\"toc-item-num\">7&nbsp;&nbsp;</span>Выводы по проведенному исследованию</a></span></li></ul></div>"
   ]
  },
  {
   "cell_type": "markdown",
   "id": "15cc5481",
   "metadata": {},
   "source": [
    "# Проект по определению зависимости дохода от рекламы от разных параметров"
   ]
  },
  {
   "cell_type": "markdown",
   "id": "99515365",
   "metadata": {},
   "source": [
    "## Введение"
   ]
  },
  {
   "cell_type": "markdown",
   "id": "94dea658",
   "metadata": {},
   "source": [
    "В этом проекте мы рассмотрим eCPM и доход от показа рекламы в мобильной игре в зависимости от разных факторов: региона пользователя, операционной системы девайса, а также, если обнаружим, и других факторов.\n",
    "Мы ознакомимся с данными, проверим на наличие дубликатов и пропусков, сделаем предобработку, если это необходимо. Затем рассмотрим распределение данных, найдем закономерности, обработаем выбросы. Далее сделаем выводы.\n",
    "\n",
    "Для работы нам предоставлен датасет со следуюшими данными:\n",
    " - `profile_id` – id юзера\n",
    " - `event_json` содержит данные о событии показа рекламы:\n",
    " - `ad_type` – формат рекламы (int, banner или rv)\n",
    " - `placement` – когда/где был показ рекламы в игре\n",
    " - `view_index` – номер показа конкретного формата рекламы для юзера\n",
    " - `revenue` – доход от конкретного показа рекламы\n",
    " - `ads_ltv` – накапливающийся доход от рекламы, равен сумме всех revenue юзера\n",
    " - `os version` – версия ОС\n",
    " - `device manufacturer, model, type` – девайс, с которого пользователь заходил в игру\n",
    " - `connection_type` – тип связи - вай-фай или мобильная\n",
    " - `operator_name` – мобильный оператор\n",
    " - `country/city` – местонахождение пользователя"
   ]
  },
  {
   "cell_type": "markdown",
   "id": "83545c1c",
   "metadata": {},
   "source": [
    "## Знакомство с данными"
   ]
  },
  {
   "cell_type": "markdown",
   "id": "325069ce",
   "metadata": {},
   "source": [
    "### Импорт нужных для работы библиотек"
   ]
  },
  {
   "cell_type": "code",
   "execution_count": 26,
   "id": "9c6bd21f",
   "metadata": {},
   "outputs": [],
   "source": [
    "import pandas as pd\n",
    "import numpy as np\n",
    "import json\n",
    "from datetime import datetime, timedelta\n",
    "import seaborn as sns\n",
    "import plotly.express as px \n",
    "from plotly import graph_objects as go\n",
    "from matplotlib import pyplot as plt\n",
    "import scipy.stats as stats\n",
    "from scipy import stats as st\n",
    "import math as mth\n",
    "import warnings\n",
    "warnings.filterwarnings('ignore')"
   ]
  },
  {
   "cell_type": "code",
   "execution_count": 27,
   "id": "4d0abcac",
   "metadata": {},
   "outputs": [],
   "source": [
    "try: \n",
    "    data = pd.read_csv('C:/Praktikum/test_uga/data.csv')\n",
    "except:\n",
    "    data = pd.read_csv('/datasets/test_uga/data.csv') # указали локальный и общий пути"
   ]
  },
  {
   "cell_type": "code",
   "execution_count": 28,
   "id": "9c8720ad",
   "metadata": {
    "scrolled": true
   },
   "outputs": [
    {
     "name": "stdout",
     "output_type": "stream",
     "text": [
      "Посмотрим на основную информацию:\n",
      "\n",
      "<class 'pandas.core.frame.DataFrame'>\n",
      "RangeIndex: 860079 entries, 0 to 860078\n",
      "Data columns (total 16 columns):\n",
      " #   Column                   Non-Null Count   Dtype \n",
      "---  ------                   --------------   ----- \n",
      " 0   profile_id               860065 non-null  object\n",
      " 1   os_version               860079 non-null  object\n",
      " 2   device_manufacturer      860079 non-null  object\n",
      " 3   device_model             860079 non-null  object\n",
      " 4   device_type              860079 non-null  object\n",
      " 5   device_locale            860079 non-null  object\n",
      " 6   event_name               860079 non-null  object\n",
      " 7   event_json               860079 non-null  object\n",
      " 8   event_datetime           860079 non-null  object\n",
      " 9   event_timestamp          860079 non-null  int64 \n",
      " 10  event_receive_datetime   860079 non-null  object\n",
      " 11  event_receive_timestamp  860079 non-null  int64 \n",
      " 12  connection_type          860079 non-null  object\n",
      " 13  operator_name            841200 non-null  object\n",
      " 14  country_iso_code         860079 non-null  object\n",
      " 15  city                     536371 non-null  object\n",
      "dtypes: int64(2), object(14)\n",
      "memory usage: 105.0+ MB\n",
      "\n",
      "Посмотрим на первые 5 строк таблицы:\n"
     ]
    },
    {
     "data": {
      "text/html": [
       "<div>\n",
       "<style scoped>\n",
       "    .dataframe tbody tr th:only-of-type {\n",
       "        vertical-align: middle;\n",
       "    }\n",
       "\n",
       "    .dataframe tbody tr th {\n",
       "        vertical-align: top;\n",
       "    }\n",
       "\n",
       "    .dataframe thead th {\n",
       "        text-align: right;\n",
       "    }\n",
       "</style>\n",
       "<table border=\"1\" class=\"dataframe\">\n",
       "  <thead>\n",
       "    <tr style=\"text-align: right;\">\n",
       "      <th></th>\n",
       "      <th>profile_id</th>\n",
       "      <th>os_version</th>\n",
       "      <th>device_manufacturer</th>\n",
       "      <th>device_model</th>\n",
       "      <th>device_type</th>\n",
       "      <th>device_locale</th>\n",
       "      <th>event_name</th>\n",
       "      <th>event_json</th>\n",
       "      <th>event_datetime</th>\n",
       "      <th>event_timestamp</th>\n",
       "      <th>event_receive_datetime</th>\n",
       "      <th>event_receive_timestamp</th>\n",
       "      <th>connection_type</th>\n",
       "      <th>operator_name</th>\n",
       "      <th>country_iso_code</th>\n",
       "      <th>city</th>\n",
       "    </tr>\n",
       "  </thead>\n",
       "  <tbody>\n",
       "    <tr>\n",
       "      <th>0</th>\n",
       "      <td>JLjpGzDHBQm</td>\n",
       "      <td>11</td>\n",
       "      <td>Samsung</td>\n",
       "      <td>Galaxy Tab S6</td>\n",
       "      <td>tablet</td>\n",
       "      <td>en_US</td>\n",
       "      <td>c_ad_revenue</td>\n",
       "      <td>{\"ad_type\":\"banner\",\"placement\":\"\",\"view_index...</td>\n",
       "      <td>2022-02-04 20:02:28</td>\n",
       "      <td>1643994148</td>\n",
       "      <td>2022-02-06 17:58:19</td>\n",
       "      <td>1644159499</td>\n",
       "      <td>wifi</td>\n",
       "      <td>NaN</td>\n",
       "      <td>US</td>\n",
       "      <td>Norwalk</td>\n",
       "    </tr>\n",
       "    <tr>\n",
       "      <th>1</th>\n",
       "      <td>JLjpGzDHBQm</td>\n",
       "      <td>11</td>\n",
       "      <td>Samsung</td>\n",
       "      <td>Galaxy Tab S6</td>\n",
       "      <td>tablet</td>\n",
       "      <td>en_US</td>\n",
       "      <td>c_ad_revenue</td>\n",
       "      <td>{\"ad_type\":\"banner\",\"placement\":\"\",\"view_index...</td>\n",
       "      <td>2022-02-04 20:02:45</td>\n",
       "      <td>1643994165</td>\n",
       "      <td>2022-02-06 17:58:19</td>\n",
       "      <td>1644159499</td>\n",
       "      <td>wifi</td>\n",
       "      <td>NaN</td>\n",
       "      <td>US</td>\n",
       "      <td>Norwalk</td>\n",
       "    </tr>\n",
       "    <tr>\n",
       "      <th>2</th>\n",
       "      <td>JLkVacrzHY6</td>\n",
       "      <td>11</td>\n",
       "      <td>Google</td>\n",
       "      <td>Pixel 2</td>\n",
       "      <td>phone</td>\n",
       "      <td>en_US</td>\n",
       "      <td>c_ad_revenue</td>\n",
       "      <td>{\"ad_type\":\"banner\",\"placement\":\"\",\"view_index...</td>\n",
       "      <td>2022-02-05 17:53:05</td>\n",
       "      <td>1644072785</td>\n",
       "      <td>2022-02-06 16:59:29</td>\n",
       "      <td>1644155969</td>\n",
       "      <td>wifi</td>\n",
       "      <td>Verizon</td>\n",
       "      <td>US</td>\n",
       "      <td>Charlotte</td>\n",
       "    </tr>\n",
       "    <tr>\n",
       "      <th>3</th>\n",
       "      <td>JMC6wG3cX0f</td>\n",
       "      <td>10</td>\n",
       "      <td>Samsung</td>\n",
       "      <td>Galaxy S9</td>\n",
       "      <td>phone</td>\n",
       "      <td>en_US</td>\n",
       "      <td>c_ad_revenue</td>\n",
       "      <td>{\"ad_type\":\"int\",\"placement\":\"next_level\",\"vie...</td>\n",
       "      <td>2022-02-06 17:09:01</td>\n",
       "      <td>1644156541</td>\n",
       "      <td>2022-02-06 17:09:24</td>\n",
       "      <td>1644156564</td>\n",
       "      <td>wifi</td>\n",
       "      <td>T-Mobile</td>\n",
       "      <td>US</td>\n",
       "      <td>Cocoa</td>\n",
       "    </tr>\n",
       "    <tr>\n",
       "      <th>4</th>\n",
       "      <td>JLzWWTJfi1b</td>\n",
       "      <td>10</td>\n",
       "      <td>Samsung</td>\n",
       "      <td>Galaxy S9</td>\n",
       "      <td>phone</td>\n",
       "      <td>en_US</td>\n",
       "      <td>c_ad_revenue</td>\n",
       "      <td>{\"ad_type\":\"banner\",\"placement\":\"\",\"view_index...</td>\n",
       "      <td>2022-02-06 17:15:38</td>\n",
       "      <td>1644156938</td>\n",
       "      <td>2022-02-06 17:16:16</td>\n",
       "      <td>1644156976</td>\n",
       "      <td>cell</td>\n",
       "      <td>Verizon</td>\n",
       "      <td>US</td>\n",
       "      <td>NaN</td>\n",
       "    </tr>\n",
       "  </tbody>\n",
       "</table>\n",
       "</div>"
      ],
      "text/plain": [
       "    profile_id os_version device_manufacturer   device_model device_type  \\\n",
       "0  JLjpGzDHBQm         11             Samsung  Galaxy Tab S6      tablet   \n",
       "1  JLjpGzDHBQm         11             Samsung  Galaxy Tab S6      tablet   \n",
       "2  JLkVacrzHY6         11              Google        Pixel 2       phone   \n",
       "3  JMC6wG3cX0f         10             Samsung      Galaxy S9       phone   \n",
       "4  JLzWWTJfi1b         10             Samsung      Galaxy S9       phone   \n",
       "\n",
       "  device_locale    event_name  \\\n",
       "0         en_US  c_ad_revenue   \n",
       "1         en_US  c_ad_revenue   \n",
       "2         en_US  c_ad_revenue   \n",
       "3         en_US  c_ad_revenue   \n",
       "4         en_US  c_ad_revenue   \n",
       "\n",
       "                                          event_json       event_datetime  \\\n",
       "0  {\"ad_type\":\"banner\",\"placement\":\"\",\"view_index...  2022-02-04 20:02:28   \n",
       "1  {\"ad_type\":\"banner\",\"placement\":\"\",\"view_index...  2022-02-04 20:02:45   \n",
       "2  {\"ad_type\":\"banner\",\"placement\":\"\",\"view_index...  2022-02-05 17:53:05   \n",
       "3  {\"ad_type\":\"int\",\"placement\":\"next_level\",\"vie...  2022-02-06 17:09:01   \n",
       "4  {\"ad_type\":\"banner\",\"placement\":\"\",\"view_index...  2022-02-06 17:15:38   \n",
       "\n",
       "   event_timestamp event_receive_datetime  event_receive_timestamp  \\\n",
       "0       1643994148    2022-02-06 17:58:19               1644159499   \n",
       "1       1643994165    2022-02-06 17:58:19               1644159499   \n",
       "2       1644072785    2022-02-06 16:59:29               1644155969   \n",
       "3       1644156541    2022-02-06 17:09:24               1644156564   \n",
       "4       1644156938    2022-02-06 17:16:16               1644156976   \n",
       "\n",
       "  connection_type operator_name country_iso_code       city  \n",
       "0            wifi           NaN               US    Norwalk  \n",
       "1            wifi           NaN               US    Norwalk  \n",
       "2            wifi       Verizon               US  Charlotte  \n",
       "3            wifi      T-Mobile               US      Cocoa  \n",
       "4            cell      Verizon                US        NaN  "
      ]
     },
     "metadata": {},
     "output_type": "display_data"
    },
    {
     "name": "stdout",
     "output_type": "stream",
     "text": [
      "\n",
      "Посмотрим характеристики таблицы:\n"
     ]
    },
    {
     "data": {
      "text/html": [
       "<div>\n",
       "<style scoped>\n",
       "    .dataframe tbody tr th:only-of-type {\n",
       "        vertical-align: middle;\n",
       "    }\n",
       "\n",
       "    .dataframe tbody tr th {\n",
       "        vertical-align: top;\n",
       "    }\n",
       "\n",
       "    .dataframe thead th {\n",
       "        text-align: right;\n",
       "    }\n",
       "</style>\n",
       "<table border=\"1\" class=\"dataframe\">\n",
       "  <thead>\n",
       "    <tr style=\"text-align: right;\">\n",
       "      <th></th>\n",
       "      <th>event_timestamp</th>\n",
       "      <th>event_receive_timestamp</th>\n",
       "    </tr>\n",
       "  </thead>\n",
       "  <tbody>\n",
       "    <tr>\n",
       "      <th>count</th>\n",
       "      <td>8.600790e+05</td>\n",
       "      <td>8.600790e+05</td>\n",
       "    </tr>\n",
       "    <tr>\n",
       "      <th>mean</th>\n",
       "      <td>1.644088e+09</td>\n",
       "      <td>1.644088e+09</td>\n",
       "    </tr>\n",
       "    <tr>\n",
       "      <th>std</th>\n",
       "      <td>1.058604e+05</td>\n",
       "      <td>1.055928e+05</td>\n",
       "    </tr>\n",
       "    <tr>\n",
       "      <th>min</th>\n",
       "      <td>1.643467e+09</td>\n",
       "      <td>1.643836e+09</td>\n",
       "    </tr>\n",
       "    <tr>\n",
       "      <th>25%</th>\n",
       "      <td>1.644017e+09</td>\n",
       "      <td>1.644018e+09</td>\n",
       "    </tr>\n",
       "    <tr>\n",
       "      <th>50%</th>\n",
       "      <td>1.644102e+09</td>\n",
       "      <td>1.644103e+09</td>\n",
       "    </tr>\n",
       "    <tr>\n",
       "      <th>75%</th>\n",
       "      <td>1.644177e+09</td>\n",
       "      <td>1.644177e+09</td>\n",
       "    </tr>\n",
       "    <tr>\n",
       "      <th>max</th>\n",
       "      <td>1.644268e+09</td>\n",
       "      <td>1.644268e+09</td>\n",
       "    </tr>\n",
       "  </tbody>\n",
       "</table>\n",
       "</div>"
      ],
      "text/plain": [
       "       event_timestamp  event_receive_timestamp\n",
       "count     8.600790e+05             8.600790e+05\n",
       "mean      1.644088e+09             1.644088e+09\n",
       "std       1.058604e+05             1.055928e+05\n",
       "min       1.643467e+09             1.643836e+09\n",
       "25%       1.644017e+09             1.644018e+09\n",
       "50%       1.644102e+09             1.644103e+09\n",
       "75%       1.644177e+09             1.644177e+09\n",
       "max       1.644268e+09             1.644268e+09"
      ]
     },
     "metadata": {},
     "output_type": "display_data"
    },
    {
     "name": "stdout",
     "output_type": "stream",
     "text": [
      "\n",
      "Количество дубликатов в данных равно 0\n"
     ]
    }
   ],
   "source": [
    "def data_first_look(data):\n",
    "    print('Посмотрим на основную информацию:')\n",
    "    print()\n",
    "    data.info()\n",
    "    print()\n",
    "    print('Посмотрим на первые 5 строк таблицы:')\n",
    "    display(data.head())\n",
    "    print()\n",
    "    print('Посмотрим характеристики таблицы:')\n",
    "    display(data.describe())\n",
    "    print()\n",
    "    print('Количество дубликатов в данных равно', data.duplicated().sum())\n",
    "    \n",
    "data_first_look(data) "
   ]
  },
  {
   "cell_type": "markdown",
   "id": "25ade9bc",
   "metadata": {},
   "source": [
    "В таблице с данными у нас чуть больше 860 000 строк, есть 14 пропусков в столбце с идентификатором пользователя. В названии оператора сети пропусков порядка 20 000, а в названии города порядка 300 000. Дубликатов нет. Колонки названы понятно, типа данных соответствуют формату, кроме колонки с датой."
   ]
  },
  {
   "cell_type": "markdown",
   "id": "799e63d0",
   "metadata": {},
   "source": [
    "### Предобработка данных"
   ]
  },
  {
   "cell_type": "code",
   "execution_count": 29,
   "id": "8c05eb2b",
   "metadata": {},
   "outputs": [],
   "source": [
    "data['event_datetime'] = pd.to_datetime(data['event_datetime']) # перевели колонку с датой в нужный формат"
   ]
  },
  {
   "cell_type": "code",
   "execution_count": 30,
   "id": "23a62334",
   "metadata": {},
   "outputs": [
    {
     "name": "stdout",
     "output_type": "stream",
     "text": [
      "Количество уникальных пользователей в датасете 4226\n"
     ]
    }
   ],
   "source": [
    "print('Количество уникальных пользователей в датасете',data['profile_id'].nunique())"
   ]
  },
  {
   "cell_type": "code",
   "execution_count": 31,
   "id": "0546e4b5",
   "metadata": {
    "scrolled": true
   },
   "outputs": [],
   "source": [
    "#data['event_json'].value_counts() # в колонке с информацией о событии данные в виде списка"
   ]
  },
  {
   "cell_type": "code",
   "execution_count": 32,
   "id": "5f6c7b85",
   "metadata": {},
   "outputs": [],
   "source": [
    "data['event_json'] = data['event_json'].apply(json.loads) # изменили тип колонки из строки в словарь"
   ]
  },
  {
   "cell_type": "code",
   "execution_count": 33,
   "id": "6eb7c8cb",
   "metadata": {
    "scrolled": false
   },
   "outputs": [],
   "source": [
    "data['ad_type'] = data['event_json'].map(lambda event : event['ad_type']) # создали столбец с информацией о типе рекламы\n",
    "data['revenue'] = data['event_json'].map(lambda event : event['revenue'])  # и столбец с доходом"
   ]
  },
  {
   "cell_type": "code",
   "execution_count": 34,
   "id": "ef7495f2",
   "metadata": {},
   "outputs": [
    {
     "data": {
      "text/html": [
       "<div>\n",
       "<style scoped>\n",
       "    .dataframe tbody tr th:only-of-type {\n",
       "        vertical-align: middle;\n",
       "    }\n",
       "\n",
       "    .dataframe tbody tr th {\n",
       "        vertical-align: top;\n",
       "    }\n",
       "\n",
       "    .dataframe thead th {\n",
       "        text-align: right;\n",
       "    }\n",
       "</style>\n",
       "<table border=\"1\" class=\"dataframe\">\n",
       "  <thead>\n",
       "    <tr style=\"text-align: right;\">\n",
       "      <th></th>\n",
       "      <th>profile_id</th>\n",
       "      <th>os_version</th>\n",
       "      <th>device_manufacturer</th>\n",
       "      <th>device_model</th>\n",
       "      <th>device_type</th>\n",
       "      <th>device_locale</th>\n",
       "      <th>event_name</th>\n",
       "      <th>event_json</th>\n",
       "      <th>event_datetime</th>\n",
       "      <th>event_timestamp</th>\n",
       "      <th>event_receive_datetime</th>\n",
       "      <th>event_receive_timestamp</th>\n",
       "      <th>connection_type</th>\n",
       "      <th>operator_name</th>\n",
       "      <th>country_iso_code</th>\n",
       "      <th>city</th>\n",
       "      <th>ad_type</th>\n",
       "      <th>revenue</th>\n",
       "    </tr>\n",
       "  </thead>\n",
       "  <tbody>\n",
       "    <tr>\n",
       "      <th>0</th>\n",
       "      <td>JLjpGzDHBQm</td>\n",
       "      <td>11</td>\n",
       "      <td>Samsung</td>\n",
       "      <td>Galaxy Tab S6</td>\n",
       "      <td>tablet</td>\n",
       "      <td>en_US</td>\n",
       "      <td>c_ad_revenue</td>\n",
       "      <td>{'ad_type': 'banner', 'placement': '', 'view_i...</td>\n",
       "      <td>2022-02-04 20:02:28</td>\n",
       "      <td>1643994148</td>\n",
       "      <td>2022-02-06 17:58:19</td>\n",
       "      <td>1644159499</td>\n",
       "      <td>wifi</td>\n",
       "      <td>NaN</td>\n",
       "      <td>US</td>\n",
       "      <td>Norwalk</td>\n",
       "      <td>banner</td>\n",
       "      <td>0.000510</td>\n",
       "    </tr>\n",
       "    <tr>\n",
       "      <th>1</th>\n",
       "      <td>JLjpGzDHBQm</td>\n",
       "      <td>11</td>\n",
       "      <td>Samsung</td>\n",
       "      <td>Galaxy Tab S6</td>\n",
       "      <td>tablet</td>\n",
       "      <td>en_US</td>\n",
       "      <td>c_ad_revenue</td>\n",
       "      <td>{'ad_type': 'banner', 'placement': '', 'view_i...</td>\n",
       "      <td>2022-02-04 20:02:45</td>\n",
       "      <td>1643994165</td>\n",
       "      <td>2022-02-06 17:58:19</td>\n",
       "      <td>1644159499</td>\n",
       "      <td>wifi</td>\n",
       "      <td>NaN</td>\n",
       "      <td>US</td>\n",
       "      <td>Norwalk</td>\n",
       "      <td>banner</td>\n",
       "      <td>0.000510</td>\n",
       "    </tr>\n",
       "    <tr>\n",
       "      <th>2</th>\n",
       "      <td>JLkVacrzHY6</td>\n",
       "      <td>11</td>\n",
       "      <td>Google</td>\n",
       "      <td>Pixel 2</td>\n",
       "      <td>phone</td>\n",
       "      <td>en_US</td>\n",
       "      <td>c_ad_revenue</td>\n",
       "      <td>{'ad_type': 'banner', 'placement': '', 'view_i...</td>\n",
       "      <td>2022-02-05 17:53:05</td>\n",
       "      <td>1644072785</td>\n",
       "      <td>2022-02-06 16:59:29</td>\n",
       "      <td>1644155969</td>\n",
       "      <td>wifi</td>\n",
       "      <td>Verizon</td>\n",
       "      <td>US</td>\n",
       "      <td>Charlotte</td>\n",
       "      <td>banner</td>\n",
       "      <td>0.002386</td>\n",
       "    </tr>\n",
       "    <tr>\n",
       "      <th>3</th>\n",
       "      <td>JMC6wG3cX0f</td>\n",
       "      <td>10</td>\n",
       "      <td>Samsung</td>\n",
       "      <td>Galaxy S9</td>\n",
       "      <td>phone</td>\n",
       "      <td>en_US</td>\n",
       "      <td>c_ad_revenue</td>\n",
       "      <td>{'ad_type': 'int', 'placement': 'next_level', ...</td>\n",
       "      <td>2022-02-06 17:09:01</td>\n",
       "      <td>1644156541</td>\n",
       "      <td>2022-02-06 17:09:24</td>\n",
       "      <td>1644156564</td>\n",
       "      <td>wifi</td>\n",
       "      <td>T-Mobile</td>\n",
       "      <td>US</td>\n",
       "      <td>Cocoa</td>\n",
       "      <td>full_screen</td>\n",
       "      <td>0.013894</td>\n",
       "    </tr>\n",
       "    <tr>\n",
       "      <th>4</th>\n",
       "      <td>JLzWWTJfi1b</td>\n",
       "      <td>10</td>\n",
       "      <td>Samsung</td>\n",
       "      <td>Galaxy S9</td>\n",
       "      <td>phone</td>\n",
       "      <td>en_US</td>\n",
       "      <td>c_ad_revenue</td>\n",
       "      <td>{'ad_type': 'banner', 'placement': '', 'view_i...</td>\n",
       "      <td>2022-02-06 17:15:38</td>\n",
       "      <td>1644156938</td>\n",
       "      <td>2022-02-06 17:16:16</td>\n",
       "      <td>1644156976</td>\n",
       "      <td>cell</td>\n",
       "      <td>Verizon</td>\n",
       "      <td>US</td>\n",
       "      <td>NaN</td>\n",
       "      <td>banner</td>\n",
       "      <td>0.006828</td>\n",
       "    </tr>\n",
       "    <tr>\n",
       "      <th>5</th>\n",
       "      <td>JLzWWTJfi1b</td>\n",
       "      <td>10</td>\n",
       "      <td>Samsung</td>\n",
       "      <td>Galaxy S9</td>\n",
       "      <td>phone</td>\n",
       "      <td>en_US</td>\n",
       "      <td>c_ad_revenue</td>\n",
       "      <td>{'ad_type': 'banner', 'placement': '', 'view_i...</td>\n",
       "      <td>2022-02-06 17:15:53</td>\n",
       "      <td>1644156953</td>\n",
       "      <td>2022-02-06 17:16:16</td>\n",
       "      <td>1644156976</td>\n",
       "      <td>cell</td>\n",
       "      <td>Verizon</td>\n",
       "      <td>US</td>\n",
       "      <td>NaN</td>\n",
       "      <td>banner</td>\n",
       "      <td>0.000494</td>\n",
       "    </tr>\n",
       "    <tr>\n",
       "      <th>6</th>\n",
       "      <td>JLzWWTJfi1b</td>\n",
       "      <td>10</td>\n",
       "      <td>Samsung</td>\n",
       "      <td>Galaxy S9</td>\n",
       "      <td>phone</td>\n",
       "      <td>en_US</td>\n",
       "      <td>c_ad_revenue</td>\n",
       "      <td>{'ad_type': 'banner', 'placement': '', 'view_i...</td>\n",
       "      <td>2022-02-06 17:16:03</td>\n",
       "      <td>1644156963</td>\n",
       "      <td>2022-02-06 17:16:16</td>\n",
       "      <td>1644156976</td>\n",
       "      <td>cell</td>\n",
       "      <td>Verizon</td>\n",
       "      <td>US</td>\n",
       "      <td>NaN</td>\n",
       "      <td>banner</td>\n",
       "      <td>0.002386</td>\n",
       "    </tr>\n",
       "    <tr>\n",
       "      <th>7</th>\n",
       "      <td>JLzWWTJfi1b</td>\n",
       "      <td>10</td>\n",
       "      <td>Samsung</td>\n",
       "      <td>Galaxy S9</td>\n",
       "      <td>phone</td>\n",
       "      <td>en_US</td>\n",
       "      <td>c_ad_revenue</td>\n",
       "      <td>{'ad_type': 'banner', 'placement': '', 'view_i...</td>\n",
       "      <td>2022-02-06 17:16:23</td>\n",
       "      <td>1644156983</td>\n",
       "      <td>2022-02-06 17:17:11</td>\n",
       "      <td>1644157031</td>\n",
       "      <td>cell</td>\n",
       "      <td>Verizon</td>\n",
       "      <td>US</td>\n",
       "      <td>NaN</td>\n",
       "      <td>banner</td>\n",
       "      <td>0.000494</td>\n",
       "    </tr>\n",
       "    <tr>\n",
       "      <th>8</th>\n",
       "      <td>JLzWWTJfi1b</td>\n",
       "      <td>10</td>\n",
       "      <td>Samsung</td>\n",
       "      <td>Galaxy S9</td>\n",
       "      <td>phone</td>\n",
       "      <td>en_US</td>\n",
       "      <td>c_ad_revenue</td>\n",
       "      <td>{'ad_type': 'banner', 'placement': '', 'view_i...</td>\n",
       "      <td>2022-02-06 17:16:33</td>\n",
       "      <td>1644156993</td>\n",
       "      <td>2022-02-06 17:17:11</td>\n",
       "      <td>1644157031</td>\n",
       "      <td>cell</td>\n",
       "      <td>Verizon</td>\n",
       "      <td>US</td>\n",
       "      <td>NaN</td>\n",
       "      <td>banner</td>\n",
       "      <td>0.002386</td>\n",
       "    </tr>\n",
       "    <tr>\n",
       "      <th>9</th>\n",
       "      <td>JLzWWTJfi1b</td>\n",
       "      <td>10</td>\n",
       "      <td>Samsung</td>\n",
       "      <td>Galaxy S9</td>\n",
       "      <td>phone</td>\n",
       "      <td>en_US</td>\n",
       "      <td>c_ad_revenue</td>\n",
       "      <td>{'ad_type': 'banner', 'placement': '', 'view_i...</td>\n",
       "      <td>2022-02-06 17:16:53</td>\n",
       "      <td>1644157013</td>\n",
       "      <td>2022-02-06 17:17:11</td>\n",
       "      <td>1644157031</td>\n",
       "      <td>cell</td>\n",
       "      <td>Verizon</td>\n",
       "      <td>US</td>\n",
       "      <td>NaN</td>\n",
       "      <td>banner</td>\n",
       "      <td>0.000494</td>\n",
       "    </tr>\n",
       "  </tbody>\n",
       "</table>\n",
       "</div>"
      ],
      "text/plain": [
       "    profile_id os_version device_manufacturer   device_model device_type  \\\n",
       "0  JLjpGzDHBQm         11             Samsung  Galaxy Tab S6      tablet   \n",
       "1  JLjpGzDHBQm         11             Samsung  Galaxy Tab S6      tablet   \n",
       "2  JLkVacrzHY6         11              Google        Pixel 2       phone   \n",
       "3  JMC6wG3cX0f         10             Samsung      Galaxy S9       phone   \n",
       "4  JLzWWTJfi1b         10             Samsung      Galaxy S9       phone   \n",
       "5  JLzWWTJfi1b         10             Samsung      Galaxy S9       phone   \n",
       "6  JLzWWTJfi1b         10             Samsung      Galaxy S9       phone   \n",
       "7  JLzWWTJfi1b         10             Samsung      Galaxy S9       phone   \n",
       "8  JLzWWTJfi1b         10             Samsung      Galaxy S9       phone   \n",
       "9  JLzWWTJfi1b         10             Samsung      Galaxy S9       phone   \n",
       "\n",
       "  device_locale    event_name  \\\n",
       "0         en_US  c_ad_revenue   \n",
       "1         en_US  c_ad_revenue   \n",
       "2         en_US  c_ad_revenue   \n",
       "3         en_US  c_ad_revenue   \n",
       "4         en_US  c_ad_revenue   \n",
       "5         en_US  c_ad_revenue   \n",
       "6         en_US  c_ad_revenue   \n",
       "7         en_US  c_ad_revenue   \n",
       "8         en_US  c_ad_revenue   \n",
       "9         en_US  c_ad_revenue   \n",
       "\n",
       "                                          event_json      event_datetime  \\\n",
       "0  {'ad_type': 'banner', 'placement': '', 'view_i... 2022-02-04 20:02:28   \n",
       "1  {'ad_type': 'banner', 'placement': '', 'view_i... 2022-02-04 20:02:45   \n",
       "2  {'ad_type': 'banner', 'placement': '', 'view_i... 2022-02-05 17:53:05   \n",
       "3  {'ad_type': 'int', 'placement': 'next_level', ... 2022-02-06 17:09:01   \n",
       "4  {'ad_type': 'banner', 'placement': '', 'view_i... 2022-02-06 17:15:38   \n",
       "5  {'ad_type': 'banner', 'placement': '', 'view_i... 2022-02-06 17:15:53   \n",
       "6  {'ad_type': 'banner', 'placement': '', 'view_i... 2022-02-06 17:16:03   \n",
       "7  {'ad_type': 'banner', 'placement': '', 'view_i... 2022-02-06 17:16:23   \n",
       "8  {'ad_type': 'banner', 'placement': '', 'view_i... 2022-02-06 17:16:33   \n",
       "9  {'ad_type': 'banner', 'placement': '', 'view_i... 2022-02-06 17:16:53   \n",
       "\n",
       "   event_timestamp event_receive_datetime  event_receive_timestamp  \\\n",
       "0       1643994148    2022-02-06 17:58:19               1644159499   \n",
       "1       1643994165    2022-02-06 17:58:19               1644159499   \n",
       "2       1644072785    2022-02-06 16:59:29               1644155969   \n",
       "3       1644156541    2022-02-06 17:09:24               1644156564   \n",
       "4       1644156938    2022-02-06 17:16:16               1644156976   \n",
       "5       1644156953    2022-02-06 17:16:16               1644156976   \n",
       "6       1644156963    2022-02-06 17:16:16               1644156976   \n",
       "7       1644156983    2022-02-06 17:17:11               1644157031   \n",
       "8       1644156993    2022-02-06 17:17:11               1644157031   \n",
       "9       1644157013    2022-02-06 17:17:11               1644157031   \n",
       "\n",
       "  connection_type operator_name country_iso_code       city      ad_type  \\\n",
       "0            wifi           NaN               US    Norwalk       banner   \n",
       "1            wifi           NaN               US    Norwalk       banner   \n",
       "2            wifi       Verizon               US  Charlotte       banner   \n",
       "3            wifi      T-Mobile               US      Cocoa  full_screen   \n",
       "4            cell      Verizon                US        NaN       banner   \n",
       "5            cell      Verizon                US        NaN       banner   \n",
       "6            cell      Verizon                US        NaN       banner   \n",
       "7            cell      Verizon                US        NaN       banner   \n",
       "8            cell      Verizon                US        NaN       banner   \n",
       "9            cell      Verizon                US        NaN       banner   \n",
       "\n",
       "    revenue  \n",
       "0  0.000510  \n",
       "1  0.000510  \n",
       "2  0.002386  \n",
       "3  0.013894  \n",
       "4  0.006828  \n",
       "5  0.000494  \n",
       "6  0.002386  \n",
       "7  0.000494  \n",
       "8  0.002386  \n",
       "9  0.000494  "
      ]
     },
     "execution_count": 34,
     "metadata": {},
     "output_type": "execute_result"
    }
   ],
   "source": [
    "data['ad_type'].replace({'int': 'full_screen', 'rv': 'video'}, inplace=True)\n",
    "data.head(10)"
   ]
  },
  {
   "cell_type": "markdown",
   "id": "29e8f269",
   "metadata": {},
   "source": [
    "### Распределение данных по датам"
   ]
  },
  {
   "cell_type": "markdown",
   "id": "19b0ce76",
   "metadata": {},
   "source": [
    "В этом разделе мы рассмотрим основные данные о датасете."
   ]
  },
  {
   "cell_type": "code",
   "execution_count": 35,
   "id": "19c2dd90",
   "metadata": {
    "scrolled": true
   },
   "outputs": [
    {
     "name": "stdout",
     "output_type": "stream",
     "text": [
      "Количество уникальных пользователей в датасете 4226\n",
      "Количество уникальных стран в датасете: 1\n",
      "Количество уникальных городов в датасете: 920\n"
     ]
    }
   ],
   "source": [
    "print('Количество уникальных пользователей в датасете', data['profile_id'].nunique())\n",
    "print('Количество уникальных стран в датасете:', data['country_iso_code'].nunique())\n",
    "print('Количество уникальных городов в датасете:', data['city'].nunique())"
   ]
  },
  {
   "cell_type": "code",
   "execution_count": 36,
   "id": "ebc4652f",
   "metadata": {
    "scrolled": true
   },
   "outputs": [
    {
     "name": "stdout",
     "output_type": "stream",
     "text": [
      "Минимальная дата привлечения пользователей 2022-01-29 17:42:32\n",
      "Максимальная дата привлечения пользователей 2022-02-07 23:59:59\n"
     ]
    }
   ],
   "source": [
    "print('Минимальная дата привлечения пользователей', data['event_datetime'].min())\n",
    "print('Максимальная дата привлечения пользователей', data['event_datetime'].max())"
   ]
  },
  {
   "cell_type": "code",
   "execution_count": 37,
   "id": "29bbb464",
   "metadata": {},
   "outputs": [],
   "source": [
    "# задаем функцию для графиков\n",
    "def built_hist(data, column, title):\n",
    "    data[column].hist(bins=400, figsize=(14, 5)).set_title(title)\n",
    "    plt.xticks(rotation=60)\n",
    "    plt.show()\n",
    "def built_scatter(data, column, title, x_line, y_line):\n",
    "    x_values = pd.Series(range(0, len(data)))\n",
    "    plt.scatter(x_values,data[column])\n",
    "    plt.title(title)\n",
    "    plt.xlabel(x_line)\n",
    "    plt.ylabel(y_line)\n",
    "    plt.show()\n",
    "    print('Процентное распределение в данных равно', np.percentile(data[column],[90,95,99]))"
   ]
  },
  {
   "cell_type": "code",
   "execution_count": 38,
   "id": "36360302",
   "metadata": {
    "scrolled": true
   },
   "outputs": [
    {
     "data": {
      "image/png": "[encoded data removed]",
      "text/plain": [
       "<Figure size 1008x360 with 1 Axes>"
      ]
     },
     "metadata": {
      "needs_background": "light"
     },
     "output_type": "display_data"
    }
   ],
   "source": [
    "built_hist(data, 'event_datetime', 'Распределение событий по датам')"
   ]
  },
  {
   "cell_type": "markdown",
   "id": "23e4051a",
   "metadata": {},
   "source": [
    "Мы видим, что несмотря на то, что минимальная дата привлечения 29 января, основные данные нам поступают только с 3 февраля. Посмотрим, сколько событий происходило в дни до этого:"
   ]
  },
  {
   "cell_type": "code",
   "execution_count": 39,
   "id": "7ef85dcc",
   "metadata": {
    "scrolled": false
   },
   "outputs": [
    {
     "data": {
      "text/plain": [
       "2022-02-06    258192\n",
       "2022-02-05    215383\n",
       "2022-02-07    198959\n",
       "2022-02-04    123495\n",
       "2022-02-03     63454\n",
       "2022-02-02       378\n",
       "2022-02-01       143\n",
       "2022-01-31        43\n",
       "2022-01-30        26\n",
       "2022-01-29         6\n",
       "Name: date, dtype: int64"
      ]
     },
     "execution_count": 39,
     "metadata": {},
     "output_type": "execute_result"
    }
   ],
   "source": [
    "data['date'] = data['event_datetime'].dt.date\n",
    "data['date'] = pd.to_datetime(data['date'])\n",
    "data['date'].value_counts()"
   ]
  },
  {
   "cell_type": "markdown",
   "id": "5c109b96",
   "metadata": {},
   "source": [
    "До 3 февраля показов рекламы почти не было. "
   ]
  },
  {
   "cell_type": "code",
   "execution_count": 40,
   "id": "0e196cff",
   "metadata": {
    "scrolled": true
   },
   "outputs": [
    {
     "data": {
      "image/png": "[encoded data removed]",
      "text/plain": [
       "<Figure size 1008x360 with 1 Axes>"
      ]
     },
     "metadata": {
      "needs_background": "light"
     },
     "output_type": "display_data"
    }
   ],
   "source": [
    "data_time = data[(data['date'] > '2022-02-02')] # удалили события до 3 февраля\n",
    "built_hist(data_time, 'event_datetime', 'Распределение событий по датам после очистки')"
   ]
  },
  {
   "cell_type": "markdown",
   "id": "efe3f35c",
   "metadata": {},
   "source": [
    "Просмотры рекламы по дням распределены равномерно и симметрично. Также они возрастают с течением времени - вероятно, алгоритм показа рекламы как-то изменился?"
   ]
  },
  {
   "cell_type": "code",
   "execution_count": 41,
   "id": "23c19293",
   "metadata": {},
   "outputs": [],
   "source": [
    "day_event = data[(data['date'] == '2022-02-07')]"
   ]
  },
  {
   "cell_type": "code",
   "execution_count": 42,
   "id": "988ee551",
   "metadata": {
    "scrolled": true
   },
   "outputs": [
    {
     "data": {
      "image/png": "[encoded data removed]",
      "text/plain": [
       "<Figure size 1008x360 with 1 Axes>"
      ]
     },
     "metadata": {
      "needs_background": "light"
     },
     "output_type": "display_data"
    }
   ],
   "source": [
    "built_hist(day_event, 'event_datetime', 'Распределение событий по часам')"
   ]
  },
  {
   "cell_type": "markdown",
   "id": "a47201e3",
   "metadata": {},
   "source": [
    "Распределение событий в течение дня выглядит довольно странно: да, геймеры часто играют ночью, но здесь основное количество событий происходит с полуночи до 6 утра, что поздно даже для увлеченных геймеров. Нужно уточнить, не попадает ли информация о просмотрах рекламы в данные с некоторой задержкой."
   ]
  },
  {
   "cell_type": "markdown",
   "id": "a8dd130e",
   "metadata": {},
   "source": [
    "## Распределение eCPM пользователей по типу рекламы"
   ]
  },
  {
   "cell_type": "code",
   "execution_count": 43,
   "id": "962c28c1",
   "metadata": {
    "scrolled": true
   },
   "outputs": [
    {
     "data": {
      "text/html": [
       "<style type=\"text/css\">\n",
       "</style>\n",
       "<table id=\"T_c5edb_\">\n",
       "  <thead>\n",
       "    <tr>\n",
       "      <th class=\"blank level0\" >&nbsp;</th>\n",
       "      <th class=\"col_heading level0 col0\" >profile_id</th>\n",
       "      <th class=\"col_heading level0 col1\" >revenue</th>\n",
       "    </tr>\n",
       "    <tr>\n",
       "      <th class=\"index_name level0\" >ad_type</th>\n",
       "      <th class=\"blank col0\" >&nbsp;</th>\n",
       "      <th class=\"blank col1\" >&nbsp;</th>\n",
       "    </tr>\n",
       "  </thead>\n",
       "  <tbody>\n",
       "    <tr>\n",
       "      <th id=\"T_c5edb_level0_row0\" class=\"row_heading level0 row0\" >video</th>\n",
       "      <td id=\"T_c5edb_row0_col0\" class=\"data row0 col0\" >1324</td>\n",
       "      <td id=\"T_c5edb_row0_col1\" class=\"data row0 col1\" >0.031469</td>\n",
       "    </tr>\n",
       "    <tr>\n",
       "      <th id=\"T_c5edb_level0_row1\" class=\"row_heading level0 row1\" >full_screen</th>\n",
       "      <td id=\"T_c5edb_row1_col0\" class=\"data row1 col0\" >3962</td>\n",
       "      <td id=\"T_c5edb_row1_col1\" class=\"data row1 col1\" >0.021399</td>\n",
       "    </tr>\n",
       "    <tr>\n",
       "      <th id=\"T_c5edb_level0_row2\" class=\"row_heading level0 row2\" >banner</th>\n",
       "      <td id=\"T_c5edb_row2_col0\" class=\"data row2 col0\" >3508</td>\n",
       "      <td id=\"T_c5edb_row2_col1\" class=\"data row2 col1\" >0.000494</td>\n",
       "    </tr>\n",
       "  </tbody>\n",
       "</table>\n"
      ],
      "text/plain": [
       "<pandas.io.formats.style.Styler at 0x1e0afd27eb0>"
      ]
     },
     "execution_count": 43,
     "metadata": {},
     "output_type": "execute_result"
    }
   ],
   "source": [
    "ad_type = data.groupby('ad_type').agg({'profile_id': 'nunique', 'revenue':'median'}).sort_values(by='revenue', ascending=False)\n",
    "ad_type.style"
   ]
  },
  {
   "cell_type": "markdown",
   "id": "bf17dc71",
   "metadata": {},
   "source": [
    "Сгруппировали пользователей по типам рекламы: больше всего пользователей смотрят полноэкранную рекламу, чуть меньше - баннеры, и совсем мало видеоролики за вознаграждение. При этом один показ видео приносит в полтора раза больше денег, чем показ полноэкранной рекламы и в 71 раз больше, чем показ баннеров."
   ]
  },
  {
   "cell_type": "code",
   "execution_count": 44,
   "id": "d8497e16",
   "metadata": {},
   "outputs": [],
   "source": [
    "data_full_screen = data.query('ad_type == \"full_screen\"')\n",
    "data_banner = data.query('ad_type == \"banner\"')\n",
    "data_video = data.query('ad_type == \"video\"')"
   ]
  },
  {
   "cell_type": "markdown",
   "id": "fe9c8c5e",
   "metadata": {},
   "source": [
    "Разделили датасеты по типу рекламы, показанной пользователям."
   ]
  },
  {
   "cell_type": "markdown",
   "id": "cfe759b5",
   "metadata": {},
   "source": [
    "### Распределение eCPM среди пользователей в полноэкранной рекламе"
   ]
  },
  {
   "cell_type": "code",
   "execution_count": 45,
   "id": "543a49bc",
   "metadata": {
    "scrolled": true
   },
   "outputs": [
    {
     "data": {
      "text/html": [
       "<div>\n",
       "<style scoped>\n",
       "    .dataframe tbody tr th:only-of-type {\n",
       "        vertical-align: middle;\n",
       "    }\n",
       "\n",
       "    .dataframe tbody tr th {\n",
       "        vertical-align: top;\n",
       "    }\n",
       "\n",
       "    .dataframe thead th {\n",
       "        text-align: right;\n",
       "    }\n",
       "</style>\n",
       "<table border=\"1\" class=\"dataframe\">\n",
       "  <thead>\n",
       "    <tr style=\"text-align: right;\">\n",
       "      <th></th>\n",
       "      <th>profile_id</th>\n",
       "      <th>count_full</th>\n",
       "      <th>sum_full</th>\n",
       "    </tr>\n",
       "  </thead>\n",
       "  <tbody>\n",
       "    <tr>\n",
       "      <th>93</th>\n",
       "      <td>JL5Tof1j4Ek</td>\n",
       "      <td>65</td>\n",
       "      <td>13.837040</td>\n",
       "    </tr>\n",
       "    <tr>\n",
       "      <th>877</th>\n",
       "      <td>JLka22uEjJH</td>\n",
       "      <td>68</td>\n",
       "      <td>12.641327</td>\n",
       "    </tr>\n",
       "    <tr>\n",
       "      <th>758</th>\n",
       "      <td>JLk1Nh53w2K</td>\n",
       "      <td>43</td>\n",
       "      <td>10.455532</td>\n",
       "    </tr>\n",
       "    <tr>\n",
       "      <th>3500</th>\n",
       "      <td>JMDwbjQO50b</td>\n",
       "      <td>22</td>\n",
       "      <td>8.636811</td>\n",
       "    </tr>\n",
       "    <tr>\n",
       "      <th>3153</th>\n",
       "      <td>JMANPvFDH9q</td>\n",
       "      <td>44</td>\n",
       "      <td>7.792646</td>\n",
       "    </tr>\n",
       "    <tr>\n",
       "      <th>1850</th>\n",
       "      <td>JLs3HLc0iMD</td>\n",
       "      <td>136</td>\n",
       "      <td>7.580030</td>\n",
       "    </tr>\n",
       "    <tr>\n",
       "      <th>1292</th>\n",
       "      <td>JLp3tquLqkt</td>\n",
       "      <td>44</td>\n",
       "      <td>6.774258</td>\n",
       "    </tr>\n",
       "    <tr>\n",
       "      <th>1615</th>\n",
       "      <td>JLr3xOqHviW</td>\n",
       "      <td>145</td>\n",
       "      <td>5.832153</td>\n",
       "    </tr>\n",
       "    <tr>\n",
       "      <th>1875</th>\n",
       "      <td>JLs8H01mzVe</td>\n",
       "      <td>10</td>\n",
       "      <td>5.686783</td>\n",
       "    </tr>\n",
       "    <tr>\n",
       "      <th>1010</th>\n",
       "      <td>JLm5yg1rHbm</td>\n",
       "      <td>27</td>\n",
       "      <td>5.539820</td>\n",
       "    </tr>\n",
       "  </tbody>\n",
       "</table>\n",
       "</div>"
      ],
      "text/plain": [
       "       profile_id  count_full   sum_full\n",
       "93    JL5Tof1j4Ek          65  13.837040\n",
       "877   JLka22uEjJH          68  12.641327\n",
       "758   JLk1Nh53w2K          43  10.455532\n",
       "3500  JMDwbjQO50b          22   8.636811\n",
       "3153  JMANPvFDH9q          44   7.792646\n",
       "1850  JLs3HLc0iMD         136   7.580030\n",
       "1292  JLp3tquLqkt          44   6.774258\n",
       "1615  JLr3xOqHviW         145   5.832153\n",
       "1875  JLs8H01mzVe          10   5.686783\n",
       "1010  JLm5yg1rHbm          27   5.539820"
      ]
     },
     "metadata": {},
     "output_type": "display_data"
    }
   ],
   "source": [
    "full_screen_users = (\n",
    "    data_full_screen.groupby('profile_id', as_index=False)\n",
    "    .agg({'revenue':['count', 'sum']}))\n",
    "full_screen_users.columns = ['profile_id','count_full', 'sum_full']\n",
    "\n",
    "display(full_screen_users.sort_values(by='sum_full', ascending=False).head(10)) "
   ]
  },
  {
   "cell_type": "markdown",
   "id": "de3e9f09",
   "metadata": {},
   "source": [
    "Посчитали, сколько раз пользователи смотрели полноэкранную рекламу и какую выручку она принесла."
   ]
  },
  {
   "cell_type": "code",
   "execution_count": 46,
   "id": "b5a170ae",
   "metadata": {
    "scrolled": true
   },
   "outputs": [
    {
     "data": {
      "text/plain": [
       "count    3962.000000\n",
       "mean       45.557457\n",
       "std        46.877344\n",
       "min         0.000000\n",
       "25%        17.620615\n",
       "50%        27.623670\n",
       "75%        56.397665\n",
       "max       568.678270\n",
       "Name: ecpm_full, dtype: float64"
      ]
     },
     "execution_count": 46,
     "metadata": {},
     "output_type": "execute_result"
    }
   ],
   "source": [
    "full_screen_users['ecpm_full'] = full_screen_users['sum_full']/full_screen_users['count_full'] * 1000\n",
    "full_screen_users['ecpm_full'].describe()"
   ]
  },
  {
   "cell_type": "markdown",
   "id": "cb0384e1",
   "metadata": {},
   "source": [
    "Рассчитали eCPM и посмотрели на его распределение: всего полноэкранную рекламу посмотрели 3973 раза, в среднем ее eCPM 46,2. При этом довольно большое стандартное отклонение - 48,1. Самый большой eCPM - 568."
   ]
  },
  {
   "cell_type": "code",
   "execution_count": 47,
   "id": "ed2a070d",
   "metadata": {
    "scrolled": false
   },
   "outputs": [
    {
     "data": {
      "image/png": "[encoded data removed]",
      "text/plain": [
       "<Figure size 1008x360 with 1 Axes>"
      ]
     },
     "metadata": {
      "needs_background": "light"
     },
     "output_type": "display_data"
    }
   ],
   "source": [
    "built_hist(full_screen_users, 'ecpm_full', 'Распределение eCPM в полноэкранной рекламе')"
   ]
  },
  {
   "cell_type": "markdown",
   "id": "5695504f",
   "metadata": {},
   "source": [
    "На гистограмме распределения мы видимо, что большая часть eCPM лежит в промежутке от 0 до 50, дальше намного меньше. Мы посмотрим на распределение по перцентилям и проанализируем, есть ли выбросы, и что с ними делать."
   ]
  },
  {
   "cell_type": "code",
   "execution_count": 48,
   "id": "4bfeda01",
   "metadata": {},
   "outputs": [
    {
     "data": {
      "image/png": "[encoded data removed]",
      "text/plain": [
       "<Figure size 432x288 with 1 Axes>"
      ]
     },
     "metadata": {
      "needs_background": "light"
     },
     "output_type": "display_data"
    },
    {
     "name": "stdout",
     "output_type": "stream",
     "text": [
      "Процентное распределение в данных равно [105.89969472 151.45065643 198.14260063]\n"
     ]
    }
   ],
   "source": [
    "built_scatter(full_screen_users, 'ecpm_full', \"eCPM на одного пользователя в полноэкранной рекламе\", \"Количество пользователей\", \"Размер ECPM\")"
   ]
  },
  {
   "cell_type": "markdown",
   "id": "654c0b19",
   "metadata": {},
   "source": [
    "Мы видим, что eCPM больше 207 есть лишь у одного процента пользователей. Мы можем принять его за выброс и удалить из данных."
   ]
  },
  {
   "cell_type": "code",
   "execution_count": 49,
   "id": "a1f991d1",
   "metadata": {
    "scrolled": true
   },
   "outputs": [
    {
     "data": {
      "text/plain": [
       "count    3932.000000\n",
       "mean       43.691726\n",
       "std        41.183239\n",
       "min         0.000000\n",
       "25%        17.554917\n",
       "50%        27.305825\n",
       "75%        55.359225\n",
       "max       206.864614\n",
       "Name: ecpm_full, dtype: float64"
      ]
     },
     "execution_count": 49,
     "metadata": {},
     "output_type": "execute_result"
    }
   ],
   "source": [
    "full_screen_users_cleared = full_screen_users.query('ecpm_full < 207.7')\n",
    "full_screen_users_cleared['ecpm_full'].describe()"
   ]
  },
  {
   "cell_type": "markdown",
   "id": "4055bdfe",
   "metadata": {},
   "source": [
    "Мы удалили выбросы из данных, тем самым немного уменьшив среднее и стандартное отклонение. Теперь гистограмма выглядит так:"
   ]
  },
  {
   "cell_type": "code",
   "execution_count": 50,
   "id": "80eb0424",
   "metadata": {
    "scrolled": true
   },
   "outputs": [
    {
     "data": {
      "image/png": "[encoded data removed]",
      "text/plain": [
       "<Figure size 1008x360 with 1 Axes>"
      ]
     },
     "metadata": {
      "needs_background": "light"
     },
     "output_type": "display_data"
    }
   ],
   "source": [
    "built_hist(full_screen_users_cleared, 'ecpm_full', 'Распределение eCPM в полноэкранной рекламе в очищенных данных')"
   ]
  },
  {
   "cell_type": "markdown",
   "id": "57d699f4",
   "metadata": {},
   "source": [
    "Распределение все еще не похоже на нормальное, есть всплески на определенных числах. Можно предположить, что это связано с фиксированной стоимостью рекламы в определенное - популярное для игр - время суток. \n",
    "\n",
    "<b>Медиана полноэкранной рекламы - 27,6$.</b>"
   ]
  },
  {
   "cell_type": "markdown",
   "id": "2cca2dc4",
   "metadata": {},
   "source": [
    "### Распределение eCPM среди пользователей в баннерной рекламе"
   ]
  },
  {
   "cell_type": "code",
   "execution_count": 51,
   "id": "53d05c70",
   "metadata": {
    "scrolled": false
   },
   "outputs": [
    {
     "data": {
      "text/html": [
       "<div>\n",
       "<style scoped>\n",
       "    .dataframe tbody tr th:only-of-type {\n",
       "        vertical-align: middle;\n",
       "    }\n",
       "\n",
       "    .dataframe tbody tr th {\n",
       "        vertical-align: top;\n",
       "    }\n",
       "\n",
       "    .dataframe thead th {\n",
       "        text-align: right;\n",
       "    }\n",
       "</style>\n",
       "<table border=\"1\" class=\"dataframe\">\n",
       "  <thead>\n",
       "    <tr style=\"text-align: right;\">\n",
       "      <th></th>\n",
       "      <th>profile_id</th>\n",
       "      <th>count_banner</th>\n",
       "      <th>sum_banner</th>\n",
       "      <th>ecpm_banner</th>\n",
       "    </tr>\n",
       "  </thead>\n",
       "  <tbody>\n",
       "    <tr>\n",
       "      <th>110</th>\n",
       "      <td>JL5pmKYe8g7</td>\n",
       "      <td>8199</td>\n",
       "      <td>3.568226</td>\n",
       "      <td>0.435203</td>\n",
       "    </tr>\n",
       "    <tr>\n",
       "      <th>452</th>\n",
       "      <td>JLTfZhBE0e3</td>\n",
       "      <td>6363</td>\n",
       "      <td>1.523379</td>\n",
       "      <td>0.239412</td>\n",
       "    </tr>\n",
       "    <tr>\n",
       "      <th>85</th>\n",
       "      <td>JL4p0t068V1</td>\n",
       "      <td>5576</td>\n",
       "      <td>1.595744</td>\n",
       "      <td>0.286181</td>\n",
       "    </tr>\n",
       "    <tr>\n",
       "      <th>1136</th>\n",
       "      <td>JLnrqVfS2Fn</td>\n",
       "      <td>4942</td>\n",
       "      <td>1.204485</td>\n",
       "      <td>0.243724</td>\n",
       "    </tr>\n",
       "    <tr>\n",
       "      <th>2401</th>\n",
       "      <td>JLxjvw18Qg0</td>\n",
       "      <td>4897</td>\n",
       "      <td>0.515456</td>\n",
       "      <td>0.105260</td>\n",
       "    </tr>\n",
       "    <tr>\n",
       "      <th>68</th>\n",
       "      <td>JL4KSxxKnjo</td>\n",
       "      <td>4444</td>\n",
       "      <td>1.723637</td>\n",
       "      <td>0.387857</td>\n",
       "    </tr>\n",
       "    <tr>\n",
       "      <th>193</th>\n",
       "      <td>JL9rCEVGtaT</td>\n",
       "      <td>3758</td>\n",
       "      <td>0.943827</td>\n",
       "      <td>0.251151</td>\n",
       "    </tr>\n",
       "    <tr>\n",
       "      <th>1534</th>\n",
       "      <td>JLrN9gFsQZU</td>\n",
       "      <td>3540</td>\n",
       "      <td>0.153792</td>\n",
       "      <td>0.043444</td>\n",
       "    </tr>\n",
       "    <tr>\n",
       "      <th>730</th>\n",
       "      <td>JLjpdpniiny</td>\n",
       "      <td>3411</td>\n",
       "      <td>2.571872</td>\n",
       "      <td>0.753994</td>\n",
       "    </tr>\n",
       "    <tr>\n",
       "      <th>778</th>\n",
       "      <td>JLk7MYCLgdw</td>\n",
       "      <td>3244</td>\n",
       "      <td>0.153909</td>\n",
       "      <td>0.047444</td>\n",
       "    </tr>\n",
       "  </tbody>\n",
       "</table>\n",
       "</div>"
      ],
      "text/plain": [
       "       profile_id  count_banner  sum_banner  ecpm_banner\n",
       "110   JL5pmKYe8g7          8199    3.568226     0.435203\n",
       "452   JLTfZhBE0e3          6363    1.523379     0.239412\n",
       "85    JL4p0t068V1          5576    1.595744     0.286181\n",
       "1136  JLnrqVfS2Fn          4942    1.204485     0.243724\n",
       "2401  JLxjvw18Qg0          4897    0.515456     0.105260\n",
       "68    JL4KSxxKnjo          4444    1.723637     0.387857\n",
       "193   JL9rCEVGtaT          3758    0.943827     0.251151\n",
       "1534  JLrN9gFsQZU          3540    0.153792     0.043444\n",
       "730   JLjpdpniiny          3411    2.571872     0.753994\n",
       "778   JLk7MYCLgdw          3244    0.153909     0.047444"
      ]
     },
     "metadata": {},
     "output_type": "display_data"
    },
    {
     "data": {
      "text/plain": [
       "count    3508.000000\n",
       "mean        1.157111\n",
       "std         1.867792\n",
       "min         0.013930\n",
       "25%         0.322804\n",
       "50%         0.583002\n",
       "75%         1.297329\n",
       "max        43.021387\n",
       "Name: ecpm_banner, dtype: float64"
      ]
     },
     "execution_count": 51,
     "metadata": {},
     "output_type": "execute_result"
    }
   ],
   "source": [
    "banner_users = (\n",
    "    data_banner.groupby('profile_id', as_index=False)\n",
    "    .agg({'revenue':['count', 'sum']}))\n",
    "banner_users.columns = ['profile_id','count_banner', 'sum_banner']\n",
    "\n",
    "banner_users['ecpm_banner'] = banner_users['sum_banner']/banner_users['count_banner'] * 1000\n",
    "display(banner_users.sort_values(by='count_banner', ascending=False).head(10))\n",
    "banner_users['ecpm_banner'].describe()"
   ]
  },
  {
   "cell_type": "markdown",
   "id": "d37c2700",
   "metadata": {},
   "source": [
    "Посчитали, сколько раз пользователи смотрели баннерную рекламу и какую выручку она принесла.\n",
    "Всего баннерную рекламу посмотрели 3507 человек, что немного меньше, чем полноэкранную. В среднем она приносит 1,15 доллар eCPM, что на порядок меньше, чем полноэкранная. Стандартное отклонение довольно значительное. В данных определенно есть выбросы."
   ]
  },
  {
   "cell_type": "code",
   "execution_count": 52,
   "id": "60b64680",
   "metadata": {
    "scrolled": true
   },
   "outputs": [
    {
     "data": {
      "image/png": "[encoded data removed]",
      "text/plain": [
       "<Figure size 1008x360 with 1 Axes>"
      ]
     },
     "metadata": {
      "needs_background": "light"
     },
     "output_type": "display_data"
    }
   ],
   "source": [
    "built_hist(banner_users, 'ecpm_banner', 'Распределение eCPM в баннерной рекламе')"
   ]
  },
  {
   "cell_type": "markdown",
   "id": "7ef8022c",
   "metadata": {},
   "source": [
    "Видно, что почти весь eCPM сосредоточен в промежутке от 0 до 1. Мы посмотрим скаттерплот и посчитаем проценты, чтобы проанализировать выбросы."
   ]
  },
  {
   "cell_type": "code",
   "execution_count": 53,
   "id": "36c2645c",
   "metadata": {},
   "outputs": [
    {
     "data": {
      "image/png": "[encoded data removed]",
      "text/plain": [
       "<Figure size 432x288 with 1 Axes>"
      ]
     },
     "metadata": {
      "needs_background": "light"
     },
     "output_type": "display_data"
    },
    {
     "name": "stdout",
     "output_type": "stream",
     "text": [
      "Процентное распределение в данных равно [2.51703074 4.0611655  7.35754893]\n"
     ]
    }
   ],
   "source": [
    "built_scatter(banner_users, 'ecpm_banner', \"eCPM на одного пользователя в баннерной рекламе\", \"Количество пользователей\", \"Размер eCPM\")"
   ]
  },
  {
   "cell_type": "markdown",
   "id": "a075d340",
   "metadata": {},
   "source": [
    "Мы видим, что, несмотря на то, что 99% данных меньше, чем 7,3, есть выбросы аж до 40. Мы уберем их из данных."
   ]
  },
  {
   "cell_type": "code",
   "execution_count": 54,
   "id": "da876fa4",
   "metadata": {},
   "outputs": [
    {
     "data": {
      "text/plain": [
       "count    3472.000000\n",
       "mean        1.045435\n",
       "std         1.256983\n",
       "min         0.013930\n",
       "25%         0.319171\n",
       "50%         0.576669\n",
       "75%         1.234583\n",
       "max         7.346318\n",
       "Name: ecpm_banner, dtype: float64"
      ]
     },
     "execution_count": 54,
     "metadata": {},
     "output_type": "execute_result"
    }
   ],
   "source": [
    "banner_users_cleared = banner_users.query('ecpm_banner < 7.35')\n",
    "banner_users_cleared['ecpm_banner'].describe()"
   ]
  },
  {
   "cell_type": "markdown",
   "id": "ae63355f",
   "metadata": {},
   "source": [
    "Мы удалили выбросы из данных, тем самым немного уменьшив среднее и стандартное отклонение. Теперь гистограмма выглядит так:"
   ]
  },
  {
   "cell_type": "code",
   "execution_count": 55,
   "id": "5d734ad1",
   "metadata": {},
   "outputs": [
    {
     "data": {
      "image/png": "[encoded data removed]",
      "text/plain": [
       "<Figure size 1008x360 with 1 Axes>"
      ]
     },
     "metadata": {
      "needs_background": "light"
     },
     "output_type": "display_data"
    }
   ],
   "source": [
    "built_hist(banner_users_cleared, 'ecpm_banner', 'Распределение eCPM в баннерной рекламе без выбросов')"
   ]
  },
  {
   "cell_type": "markdown",
   "id": "60ff1271",
   "metadata": {},
   "source": [
    "Сейчас стало очевиднее, где расположено большинство eCPM пользователей. Распределение скошено влево, нормальным мы его назвать не можем. Есть большой выброс в районе 2,5 eCPM. Возможно это, как и в полноэкранной рекламе, доход за рекламу, показанную в популярное время. \n",
    "\n",
    "<b>Медианный eCPM баннерной рекламы - 0,57 доллара.</b>"
   ]
  },
  {
   "cell_type": "markdown",
   "id": "a4eb30d3",
   "metadata": {},
   "source": [
    "### Распределение eCPM в видеорекламе"
   ]
  },
  {
   "cell_type": "code",
   "execution_count": 56,
   "id": "e53fbafc",
   "metadata": {},
   "outputs": [
    {
     "data": {
      "text/html": [
       "<div>\n",
       "<style scoped>\n",
       "    .dataframe tbody tr th:only-of-type {\n",
       "        vertical-align: middle;\n",
       "    }\n",
       "\n",
       "    .dataframe tbody tr th {\n",
       "        vertical-align: top;\n",
       "    }\n",
       "\n",
       "    .dataframe thead th {\n",
       "        text-align: right;\n",
       "    }\n",
       "</style>\n",
       "<table border=\"1\" class=\"dataframe\">\n",
       "  <thead>\n",
       "    <tr style=\"text-align: right;\">\n",
       "      <th></th>\n",
       "      <th>profile_id</th>\n",
       "      <th>count_video</th>\n",
       "      <th>sum_video</th>\n",
       "      <th>ecpm_video</th>\n",
       "    </tr>\n",
       "  </thead>\n",
       "  <tbody>\n",
       "    <tr>\n",
       "      <th>784</th>\n",
       "      <td>JLtY7hvRXO3</td>\n",
       "      <td>3</td>\n",
       "      <td>2.424884</td>\n",
       "      <td>808.294820</td>\n",
       "    </tr>\n",
       "    <tr>\n",
       "      <th>35</th>\n",
       "      <td>JL5Tof1j4Ek</td>\n",
       "      <td>1</td>\n",
       "      <td>0.693535</td>\n",
       "      <td>693.534973</td>\n",
       "    </tr>\n",
       "    <tr>\n",
       "      <th>875</th>\n",
       "      <td>JLw6kvDTnNC</td>\n",
       "      <td>4</td>\n",
       "      <td>2.407034</td>\n",
       "      <td>601.758453</td>\n",
       "    </tr>\n",
       "    <tr>\n",
       "      <th>239</th>\n",
       "      <td>JLfKsX7jRRX</td>\n",
       "      <td>1</td>\n",
       "      <td>0.597984</td>\n",
       "      <td>597.984497</td>\n",
       "    </tr>\n",
       "    <tr>\n",
       "      <th>1086</th>\n",
       "      <td>JLzhyCneX5W</td>\n",
       "      <td>4</td>\n",
       "      <td>1.902058</td>\n",
       "      <td>475.514518</td>\n",
       "    </tr>\n",
       "    <tr>\n",
       "      <th>485</th>\n",
       "      <td>JLp7D5k51D8</td>\n",
       "      <td>1</td>\n",
       "      <td>0.440630</td>\n",
       "      <td>440.629578</td>\n",
       "    </tr>\n",
       "    <tr>\n",
       "      <th>1267</th>\n",
       "      <td>JMF0LdB44CU</td>\n",
       "      <td>1</td>\n",
       "      <td>0.404099</td>\n",
       "      <td>404.099137</td>\n",
       "    </tr>\n",
       "    <tr>\n",
       "      <th>927</th>\n",
       "      <td>JLx44oLMS0C</td>\n",
       "      <td>1</td>\n",
       "      <td>0.398888</td>\n",
       "      <td>398.887665</td>\n",
       "    </tr>\n",
       "    <tr>\n",
       "      <th>247</th>\n",
       "      <td>JLi4ndGAKK4</td>\n",
       "      <td>1</td>\n",
       "      <td>0.389606</td>\n",
       "      <td>389.605621</td>\n",
       "    </tr>\n",
       "    <tr>\n",
       "      <th>320</th>\n",
       "      <td>JLkP2qOPUSX</td>\n",
       "      <td>1</td>\n",
       "      <td>0.366840</td>\n",
       "      <td>366.840286</td>\n",
       "    </tr>\n",
       "  </tbody>\n",
       "</table>\n",
       "</div>"
      ],
      "text/plain": [
       "       profile_id  count_video  sum_video  ecpm_video\n",
       "784   JLtY7hvRXO3            3   2.424884  808.294820\n",
       "35    JL5Tof1j4Ek            1   0.693535  693.534973\n",
       "875   JLw6kvDTnNC            4   2.407034  601.758453\n",
       "239   JLfKsX7jRRX            1   0.597984  597.984497\n",
       "1086  JLzhyCneX5W            4   1.902058  475.514518\n",
       "485   JLp7D5k51D8            1   0.440630  440.629578\n",
       "1267  JMF0LdB44CU            1   0.404099  404.099137\n",
       "927   JLx44oLMS0C            1   0.398888  398.887665\n",
       "247   JLi4ndGAKK4            1   0.389606  389.605621\n",
       "320   JLkP2qOPUSX            1   0.366840  366.840286"
      ]
     },
     "metadata": {},
     "output_type": "display_data"
    },
    {
     "data": {
      "text/plain": [
       "count    1324.000000\n",
       "mean       80.502004\n",
       "std        79.154906\n",
       "min         0.223222\n",
       "25%        28.240000\n",
       "50%        46.019935\n",
       "75%        98.067206\n",
       "max       808.294820\n",
       "Name: ecpm_video, dtype: float64"
      ]
     },
     "execution_count": 56,
     "metadata": {},
     "output_type": "execute_result"
    }
   ],
   "source": [
    "video_users = (\n",
    "    data_video.groupby('profile_id', as_index=False)\n",
    "    .agg({'revenue':['count', 'sum']}))\n",
    "video_users.columns = ['profile_id','count_video', 'sum_video']\n",
    "\n",
    "video_users['ecpm_video'] = video_users['sum_video']/video_users['count_video'] * 1000\n",
    "display(video_users.sort_values(by='ecpm_video', ascending=False).head(10))\n",
    "video_users['ecpm_video'].describe()"
   ]
  },
  {
   "cell_type": "markdown",
   "id": "8da5db1a",
   "metadata": {},
   "source": [
    "Посчитали, сколько раз пользователи смотрели видеорекламу и какую выручку она принесла.\n",
    "Видео рекламу посмотрело всего 967 человек, что значительно меньше, чем остальные типы рекламы. В среднем она приносит 84 долларов eCPM. Это в два раза выше, чем полноэкранная и в 83, чем баннерная.  Стандартное отклонение значительное. Посмотрим на гистограмму и диаграмму распределения."
   ]
  },
  {
   "cell_type": "code",
   "execution_count": 57,
   "id": "c29509ca",
   "metadata": {
    "scrolled": true
   },
   "outputs": [
    {
     "data": {
      "image/png": "[encoded data removed]",
      "text/plain": [
       "<Figure size 1008x360 with 1 Axes>"
      ]
     },
     "metadata": {
      "needs_background": "light"
     },
     "output_type": "display_data"
    }
   ],
   "source": [
    "built_hist(video_users, 'ecpm_video', 'Распределение eCPM в видеорекламе')"
   ]
  },
  {
   "cell_type": "code",
   "execution_count": 58,
   "id": "ae77135c",
   "metadata": {},
   "outputs": [
    {
     "data": {
      "image/png": "[encoded data removed]",
      "text/plain": [
       "<Figure size 432x288 with 1 Axes>"
      ]
     },
     "metadata": {
      "needs_background": "light"
     },
     "output_type": "display_data"
    },
    {
     "name": "stdout",
     "output_type": "stream",
     "text": [
      "Процентное распределение в данных равно [211.7        211.7        313.34138612]\n"
     ]
    }
   ],
   "source": [
    "built_scatter(video_users, 'ecpm_video', 'eCPM на одного пользователя в видео рекламе', 'Количество пользователей', 'Размер eCPM')"
   ]
  },
  {
   "cell_type": "markdown",
   "id": "1d751f57",
   "metadata": {},
   "source": [
    "Скаттерплот и процентное распределение выглядят очень любопытно. Впрочем, это было видно и на гистограмме: eCPM по видео рекламе сосредоточен в трех пиках: примерно 28, 76 и 211 долларов. \n",
    "Можно предположить, что пользователь получает ресурсы за конкретное количество просмотров рекламы (например, 5, 10 и 15), и эти всплески показывают eCPM именно за эти периоды. Это не выбросы, а закономерность, так что удалять мы их не будем.\n",
    "\n",
    "<b>Медианный eCPM баннерной рекламы - 54,4 доллара.</b>"
   ]
  },
  {
   "cell_type": "markdown",
   "id": "dda81dd1",
   "metadata": {},
   "source": [
    "<b> На основании проведенного анализа eCPM пользователей по разным типам рекламы, мы можем сделать следующие выводы: </b>\n",
    " 1)  Больше всего пользователей (3933 после удаления выбросов) смотрят полноэкранную рекламу, ее медианный ecpm 27,6$. Здесь стоит обратить внимание на медиану, а не среднее. Хоть мы и убрали значительные выбросы, распределение все еще не нормальное, есть всплески на определенных числах. Поэтому среднее арифметическое нам не подойдет.\n",
    " \n",
    "2)  Медиана баннерной рекламы 0,57 доллара. Здесь мы тоже не можем обратиться к среднему, распределение неравномерное. Баннерную рекламу смотрит почти столько же пользователей (3471 после удаления выбросов), но eCPM у нее в несколько раз ниже. \n",
    "\n",
    "3)  Видео рекламу смотрят меньше всего пользователей (967), но eCPM у нее значительно выше, чем у других типов. Медиана у видео рекламы 54,4 доллара.\n",
    "\n",
    "4)  У всех типов реклам есть всплески в определенных частях графиков. Можно предположить, что у полноэкранной и баннерной рекламы - это доход от рекламы, показанной в определенное, популярное для игр время. У видео рекламы это может быть связано с вознаграждениями пользователям, посмотревшим определенное количество роликов.\n"
   ]
  },
  {
   "cell_type": "markdown",
   "id": "c640e70a",
   "metadata": {},
   "source": [
    "## Распределение eCPM по версиям ОС"
   ]
  },
  {
   "cell_type": "markdown",
   "id": "1bf1da48",
   "metadata": {},
   "source": [
    "В этом разделе мы рассмотрим, как eCPM каждого вида рекламы зависит от версии ОС, которую использует пользователь."
   ]
  },
  {
   "cell_type": "code",
   "execution_count": 59,
   "id": "e807bcf3",
   "metadata": {},
   "outputs": [
    {
     "data": {
      "text/plain": [
       "11"
      ]
     },
     "execution_count": 59,
     "metadata": {},
     "output_type": "execute_result"
    }
   ],
   "source": [
    "data['os_version'].nunique()"
   ]
  },
  {
   "cell_type": "markdown",
   "id": "99317cbf",
   "metadata": {},
   "source": [
    "В датасете есть информация об 11 уникальных версий ОС."
   ]
  },
  {
   "cell_type": "code",
   "execution_count": 60,
   "id": "473bcf9b",
   "metadata": {
    "scrolled": true
   },
   "outputs": [
    {
     "data": {
      "text/html": [
       "<div>\n",
       "<style scoped>\n",
       "    .dataframe tbody tr th:only-of-type {\n",
       "        vertical-align: middle;\n",
       "    }\n",
       "\n",
       "    .dataframe tbody tr th {\n",
       "        vertical-align: top;\n",
       "    }\n",
       "\n",
       "    .dataframe thead th {\n",
       "        text-align: right;\n",
       "    }\n",
       "</style>\n",
       "<table border=\"1\" class=\"dataframe\">\n",
       "  <thead>\n",
       "    <tr style=\"text-align: right;\">\n",
       "      <th></th>\n",
       "      <th>ad_type</th>\n",
       "      <th>os_versions</th>\n",
       "      <th>count_revenue</th>\n",
       "      <th>sum_revenue</th>\n",
       "      <th>ecpm_os</th>\n",
       "    </tr>\n",
       "  </thead>\n",
       "  <tbody>\n",
       "    <tr>\n",
       "      <th>27</th>\n",
       "      <td>video</td>\n",
       "      <td>7.0</td>\n",
       "      <td>26</td>\n",
       "      <td>2.071224</td>\n",
       "      <td>79.662468</td>\n",
       "    </tr>\n",
       "    <tr>\n",
       "      <th>24</th>\n",
       "      <td>video</td>\n",
       "      <td>12</td>\n",
       "      <td>2986</td>\n",
       "      <td>237.592767</td>\n",
       "      <td>79.568911</td>\n",
       "    </tr>\n",
       "    <tr>\n",
       "      <th>23</th>\n",
       "      <td>video</td>\n",
       "      <td>11</td>\n",
       "      <td>2010</td>\n",
       "      <td>107.291533</td>\n",
       "      <td>53.378872</td>\n",
       "    </tr>\n",
       "    <tr>\n",
       "      <th>22</th>\n",
       "      <td>video</td>\n",
       "      <td>10</td>\n",
       "      <td>965</td>\n",
       "      <td>51.470091</td>\n",
       "      <td>53.336882</td>\n",
       "    </tr>\n",
       "    <tr>\n",
       "      <th>31</th>\n",
       "      <td>video</td>\n",
       "      <td>9</td>\n",
       "      <td>395</td>\n",
       "      <td>19.809863</td>\n",
       "      <td>50.151552</td>\n",
       "    </tr>\n",
       "    <tr>\n",
       "      <th>13</th>\n",
       "      <td>full_screen</td>\n",
       "      <td>12</td>\n",
       "      <td>16619</td>\n",
       "      <td>704.497187</td>\n",
       "      <td>42.391070</td>\n",
       "    </tr>\n",
       "    <tr>\n",
       "      <th>16</th>\n",
       "      <td>full_screen</td>\n",
       "      <td>7.0</td>\n",
       "      <td>199</td>\n",
       "      <td>7.813966</td>\n",
       "      <td>39.266162</td>\n",
       "    </tr>\n",
       "    <tr>\n",
       "      <th>29</th>\n",
       "      <td>video</td>\n",
       "      <td>8.0.0</td>\n",
       "      <td>60</td>\n",
       "      <td>2.316879</td>\n",
       "      <td>38.614653</td>\n",
       "    </tr>\n",
       "    <tr>\n",
       "      <th>12</th>\n",
       "      <td>full_screen</td>\n",
       "      <td>11</td>\n",
       "      <td>10865</td>\n",
       "      <td>363.634932</td>\n",
       "      <td>33.468471</td>\n",
       "    </tr>\n",
       "    <tr>\n",
       "      <th>30</th>\n",
       "      <td>video</td>\n",
       "      <td>8.1.0</td>\n",
       "      <td>29</td>\n",
       "      <td>0.923077</td>\n",
       "      <td>31.830249</td>\n",
       "    </tr>\n",
       "    <tr>\n",
       "      <th>11</th>\n",
       "      <td>full_screen</td>\n",
       "      <td>10</td>\n",
       "      <td>6144</td>\n",
       "      <td>191.795052</td>\n",
       "      <td>31.216643</td>\n",
       "    </tr>\n",
       "    <tr>\n",
       "      <th>21</th>\n",
       "      <td>full_screen</td>\n",
       "      <td>9</td>\n",
       "      <td>2906</td>\n",
       "      <td>78.475755</td>\n",
       "      <td>27.004733</td>\n",
       "    </tr>\n",
       "    <tr>\n",
       "      <th>28</th>\n",
       "      <td>video</td>\n",
       "      <td>7.1.1</td>\n",
       "      <td>5</td>\n",
       "      <td>0.121076</td>\n",
       "      <td>24.215299</td>\n",
       "    </tr>\n",
       "    <tr>\n",
       "      <th>19</th>\n",
       "      <td>full_screen</td>\n",
       "      <td>8.0.0</td>\n",
       "      <td>338</td>\n",
       "      <td>6.770185</td>\n",
       "      <td>20.030134</td>\n",
       "    </tr>\n",
       "    <tr>\n",
       "      <th>17</th>\n",
       "      <td>full_screen</td>\n",
       "      <td>7.1.1</td>\n",
       "      <td>66</td>\n",
       "      <td>1.203363</td>\n",
       "      <td>18.232767</td>\n",
       "    </tr>\n",
       "    <tr>\n",
       "      <th>20</th>\n",
       "      <td>full_screen</td>\n",
       "      <td>8.1.0</td>\n",
       "      <td>340</td>\n",
       "      <td>6.016151</td>\n",
       "      <td>17.694561</td>\n",
       "    </tr>\n",
       "    <tr>\n",
       "      <th>14</th>\n",
       "      <td>full_screen</td>\n",
       "      <td>5.0.2</td>\n",
       "      <td>22</td>\n",
       "      <td>0.329325</td>\n",
       "      <td>14.969333</td>\n",
       "    </tr>\n",
       "    <tr>\n",
       "      <th>25</th>\n",
       "      <td>video</td>\n",
       "      <td>5.0.2</td>\n",
       "      <td>2</td>\n",
       "      <td>0.028377</td>\n",
       "      <td>14.188713</td>\n",
       "    </tr>\n",
       "    <tr>\n",
       "      <th>15</th>\n",
       "      <td>full_screen</td>\n",
       "      <td>6.0.1</td>\n",
       "      <td>44</td>\n",
       "      <td>0.579568</td>\n",
       "      <td>13.172003</td>\n",
       "    </tr>\n",
       "    <tr>\n",
       "      <th>18</th>\n",
       "      <td>full_screen</td>\n",
       "      <td>7.1.2</td>\n",
       "      <td>70</td>\n",
       "      <td>0.837482</td>\n",
       "      <td>11.964031</td>\n",
       "    </tr>\n",
       "    <tr>\n",
       "      <th>26</th>\n",
       "      <td>video</td>\n",
       "      <td>6.0.1</td>\n",
       "      <td>4</td>\n",
       "      <td>0.036764</td>\n",
       "      <td>9.191038</td>\n",
       "    </tr>\n",
       "    <tr>\n",
       "      <th>2</th>\n",
       "      <td>banner</td>\n",
       "      <td>12</td>\n",
       "      <td>387982</td>\n",
       "      <td>363.488994</td>\n",
       "      <td>0.936871</td>\n",
       "    </tr>\n",
       "    <tr>\n",
       "      <th>1</th>\n",
       "      <td>banner</td>\n",
       "      <td>11</td>\n",
       "      <td>196196</td>\n",
       "      <td>116.298348</td>\n",
       "      <td>0.592766</td>\n",
       "    </tr>\n",
       "    <tr>\n",
       "      <th>0</th>\n",
       "      <td>banner</td>\n",
       "      <td>10</td>\n",
       "      <td>143762</td>\n",
       "      <td>85.002788</td>\n",
       "      <td>0.591274</td>\n",
       "    </tr>\n",
       "    <tr>\n",
       "      <th>10</th>\n",
       "      <td>banner</td>\n",
       "      <td>9</td>\n",
       "      <td>63361</td>\n",
       "      <td>34.820249</td>\n",
       "      <td>0.549553</td>\n",
       "    </tr>\n",
       "    <tr>\n",
       "      <th>8</th>\n",
       "      <td>banner</td>\n",
       "      <td>8.0.0</td>\n",
       "      <td>7618</td>\n",
       "      <td>2.804952</td>\n",
       "      <td>0.368201</td>\n",
       "    </tr>\n",
       "    <tr>\n",
       "      <th>9</th>\n",
       "      <td>banner</td>\n",
       "      <td>8.1.0</td>\n",
       "      <td>8880</td>\n",
       "      <td>2.847789</td>\n",
       "      <td>0.320697</td>\n",
       "    </tr>\n",
       "    <tr>\n",
       "      <th>5</th>\n",
       "      <td>banner</td>\n",
       "      <td>7.0</td>\n",
       "      <td>3832</td>\n",
       "      <td>1.065803</td>\n",
       "      <td>0.278132</td>\n",
       "    </tr>\n",
       "    <tr>\n",
       "      <th>4</th>\n",
       "      <td>banner</td>\n",
       "      <td>6.0.1</td>\n",
       "      <td>656</td>\n",
       "      <td>0.166939</td>\n",
       "      <td>0.254481</td>\n",
       "    </tr>\n",
       "    <tr>\n",
       "      <th>6</th>\n",
       "      <td>banner</td>\n",
       "      <td>7.1.1</td>\n",
       "      <td>1271</td>\n",
       "      <td>0.300135</td>\n",
       "      <td>0.236141</td>\n",
       "    </tr>\n",
       "    <tr>\n",
       "      <th>3</th>\n",
       "      <td>banner</td>\n",
       "      <td>5.0.2</td>\n",
       "      <td>685</td>\n",
       "      <td>0.135827</td>\n",
       "      <td>0.198288</td>\n",
       "    </tr>\n",
       "    <tr>\n",
       "      <th>7</th>\n",
       "      <td>banner</td>\n",
       "      <td>7.1.2</td>\n",
       "      <td>1741</td>\n",
       "      <td>0.252216</td>\n",
       "      <td>0.144868</td>\n",
       "    </tr>\n",
       "  </tbody>\n",
       "</table>\n",
       "</div>"
      ],
      "text/plain": [
       "        ad_type os_versions  count_revenue  sum_revenue    ecpm_os\n",
       "27        video         7.0             26     2.071224  79.662468\n",
       "24        video          12           2986   237.592767  79.568911\n",
       "23        video          11           2010   107.291533  53.378872\n",
       "22        video          10            965    51.470091  53.336882\n",
       "31        video           9            395    19.809863  50.151552\n",
       "13  full_screen          12          16619   704.497187  42.391070\n",
       "16  full_screen         7.0            199     7.813966  39.266162\n",
       "29        video       8.0.0             60     2.316879  38.614653\n",
       "12  full_screen          11          10865   363.634932  33.468471\n",
       "30        video       8.1.0             29     0.923077  31.830249\n",
       "11  full_screen          10           6144   191.795052  31.216643\n",
       "21  full_screen           9           2906    78.475755  27.004733\n",
       "28        video       7.1.1              5     0.121076  24.215299\n",
       "19  full_screen       8.0.0            338     6.770185  20.030134\n",
       "17  full_screen       7.1.1             66     1.203363  18.232767\n",
       "20  full_screen       8.1.0            340     6.016151  17.694561\n",
       "14  full_screen       5.0.2             22     0.329325  14.969333\n",
       "25        video       5.0.2              2     0.028377  14.188713\n",
       "15  full_screen       6.0.1             44     0.579568  13.172003\n",
       "18  full_screen       7.1.2             70     0.837482  11.964031\n",
       "26        video       6.0.1              4     0.036764   9.191038\n",
       "2        banner          12         387982   363.488994   0.936871\n",
       "1        banner          11         196196   116.298348   0.592766\n",
       "0        banner          10         143762    85.002788   0.591274\n",
       "10       banner           9          63361    34.820249   0.549553\n",
       "8        banner       8.0.0           7618     2.804952   0.368201\n",
       "9        banner       8.1.0           8880     2.847789   0.320697\n",
       "5        banner         7.0           3832     1.065803   0.278132\n",
       "4        banner       6.0.1            656     0.166939   0.254481\n",
       "6        banner       7.1.1           1271     0.300135   0.236141\n",
       "3        banner       5.0.2            685     0.135827   0.198288\n",
       "7        banner       7.1.2           1741     0.252216   0.144868"
      ]
     },
     "metadata": {},
     "output_type": "display_data"
    }
   ],
   "source": [
    "data_os = data.groupby(['ad_type','os_version']).agg({'revenue':['count', 'sum']}).reset_index()\n",
    "data_os.columns = ['ad_type', 'os_versions','count_revenue', 'sum_revenue']\n",
    "\n",
    "data_os['ecpm_os'] = data_os['sum_revenue']/data_os['count_revenue'] * 1000\n",
    "display(data_os.sort_values(by='ecpm_os', ascending=False))"
   ]
  },
  {
   "cell_type": "markdown",
   "id": "9bb2e7cd",
   "metadata": {},
   "source": [
    "Мы собрали датасет с типом рекламы и версией ОС и посчитали eCPM для каждого сочетания. Можно увидеть, что первые шесть строк занимает видеореклама с разными версиями ОС. Но просмотров у нее значительно меньше, чем у полноэкранной рекламы или баннеров. Опять же - баннерная реклама показывается чаще всего, но eCPM у нее маленький, что подтверждает выводы прошлого раздела."
   ]
  },
  {
   "cell_type": "code",
   "execution_count": 61,
   "id": "f6761203",
   "metadata": {
    "scrolled": true
   },
   "outputs": [
    {
     "data": {
      "text/plain": [
       "Text(0, 0.5, 'Total eCPM')"
      ]
     },
     "execution_count": 61,
     "metadata": {},
     "output_type": "execute_result"
    },
    {
     "data": {
      "image/png": "[encoded data removed]",
      "text/plain": [
       "<Figure size 864x576 with 1 Axes>"
      ]
     },
     "metadata": {
      "needs_background": "light"
     },
     "output_type": "display_data"
    }
   ],
   "source": [
    "plt.figure(figsize = (12,8))\n",
    "fig = sns.barplot(x='os_versions', y='ecpm_os', data=data_os)\n",
    "fig.set_title('OS by total eCPM',fontsize='14')\n",
    "fig.set_xlabel('OS', fontsize='12')\n",
    "fig.set_ylabel('Total eCPM', fontsize='10')"
   ]
  },
  {
   "cell_type": "markdown",
   "id": "917629eb",
   "metadata": {},
   "source": [
    "Мы построили распределение eCPM по версиям ОС - выше всего он у ОС 7.0 и 12, ниже всего у 7.1.2 и 5.0.2."
   ]
  },
  {
   "cell_type": "code",
   "execution_count": 62,
   "id": "ea1998b9",
   "metadata": {
    "scrolled": true
   },
   "outputs": [
    {
     "data": {
      "text/plain": [
       "Text(0, 0.5, 'eCPM')"
      ]
     },
     "execution_count": 62,
     "metadata": {},
     "output_type": "execute_result"
    },
    {
     "data": {
      "image/png": "[encoded data removed]",
      "text/plain": [
       "<Figure size 1080x576 with 1 Axes>"
      ]
     },
     "metadata": {
      "needs_background": "light"
     },
     "output_type": "display_data"
    }
   ],
   "source": [
    "data_os.pivot_table(index=['ad_type'], columns='os_versions', values='ecpm_os', aggfunc='median').plot(grid=True, figsize=(15, 8))\n",
    "plt.title('Распределение eCPM по типам рекламы')\n",
    "plt.xlabel('Тип рекламы')\n",
    "plt.ylabel('eCPM')"
   ]
  },
  {
   "cell_type": "markdown",
   "id": "24d7b11f",
   "metadata": {},
   "source": [
    "На этом графике мы можем рассмотреть eCPM в динамике по ОС и видам рекламы. Например, видно, что OC 12 приносит больше всего eCPM в баннерах и полноэкранной рекламе, но в видео ее опережает ОС 7.0. А пользователи с ОС 5.0.2 вообще не смотрят видеорекламу. Также хороший eCPM у ОС 10 и 11, они идут рядом.\n",
    "<b>В целом, все следует тому же тренду - баннерную рекламу смотрят все, но eCPM у нее самый низкий, в отличие от видеорекламы. Видеорекламу смотрят меньше, но eCPM у нее самый высокий. </b>"
   ]
  },
  {
   "cell_type": "markdown",
   "id": "fee2f56c",
   "metadata": {},
   "source": [
    "## Распределение eCPM по городам"
   ]
  },
  {
   "cell_type": "markdown",
   "id": "31c1a7d7",
   "metadata": {},
   "source": [
    "В этом разделе мы рассмотрим распределение eCPM по городам."
   ]
  },
  {
   "cell_type": "code",
   "execution_count": 63,
   "id": "4516f6fd",
   "metadata": {
    "scrolled": true
   },
   "outputs": [
    {
     "data": {
      "text/plain": [
       "920"
      ]
     },
     "execution_count": 63,
     "metadata": {},
     "output_type": "execute_result"
    }
   ],
   "source": [
    "data['city'].nunique()"
   ]
  },
  {
   "cell_type": "markdown",
   "id": "19c84898",
   "metadata": {},
   "source": [
    "В данных у нас 920 городов. Нужно проверить, у всех ли из них можно рассчитать eCPM."
   ]
  },
  {
   "cell_type": "code",
   "execution_count": 66,
   "id": "b08216e6",
   "metadata": {
    "scrolled": true
   },
   "outputs": [
    {
     "name": "stdout",
     "output_type": "stream",
     "text": [
      "<class 'pandas.core.frame.DataFrame'>\n",
      "RangeIndex: 2179 entries, 0 to 2178\n",
      "Data columns (total 5 columns):\n",
      " #   Column         Non-Null Count  Dtype  \n",
      "---  ------         --------------  -----  \n",
      " 0   ad_type        2179 non-null   object \n",
      " 1   city           2179 non-null   object \n",
      " 2   count_revenue  2179 non-null   int64  \n",
      " 3   sum_revenue    2179 non-null   float64\n",
      " 4   ecpm_city      2179 non-null   float64\n",
      "dtypes: float64(2), int64(1), object(2)\n",
      "memory usage: 85.2+ KB\n"
     ]
    },
    {
     "data": {
      "text/html": [
       "<div>\n",
       "<style scoped>\n",
       "    .dataframe tbody tr th:only-of-type {\n",
       "        vertical-align: middle;\n",
       "    }\n",
       "\n",
       "    .dataframe tbody tr th {\n",
       "        vertical-align: top;\n",
       "    }\n",
       "\n",
       "    .dataframe thead th {\n",
       "        text-align: right;\n",
       "    }\n",
       "</style>\n",
       "<table border=\"1\" class=\"dataframe\">\n",
       "  <thead>\n",
       "    <tr style=\"text-align: right;\">\n",
       "      <th></th>\n",
       "      <th>ad_type</th>\n",
       "      <th>city</th>\n",
       "      <th>count_revenue</th>\n",
       "      <th>sum_revenue</th>\n",
       "      <th>ecpm_city</th>\n",
       "    </tr>\n",
       "  </thead>\n",
       "  <tbody>\n",
       "    <tr>\n",
       "      <th>1846</th>\n",
       "      <td>video</td>\n",
       "      <td>East Peoria</td>\n",
       "      <td>3</td>\n",
       "      <td>2.424884</td>\n",
       "      <td>808.294820</td>\n",
       "    </tr>\n",
       "    <tr>\n",
       "      <th>2033</th>\n",
       "      <td>video</td>\n",
       "      <td>Norwood</td>\n",
       "      <td>1</td>\n",
       "      <td>0.597984</td>\n",
       "      <td>597.984497</td>\n",
       "    </tr>\n",
       "    <tr>\n",
       "      <th>1313</th>\n",
       "      <td>full_screen</td>\n",
       "      <td>Madisonville</td>\n",
       "      <td>3</td>\n",
       "      <td>1.311120</td>\n",
       "      <td>437.039882</td>\n",
       "    </tr>\n",
       "    <tr>\n",
       "      <th>1255</th>\n",
       "      <td>full_screen</td>\n",
       "      <td>La Crosse</td>\n",
       "      <td>3</td>\n",
       "      <td>1.245478</td>\n",
       "      <td>415.159332</td>\n",
       "    </tr>\n",
       "    <tr>\n",
       "      <th>1922</th>\n",
       "      <td>video</td>\n",
       "      <td>Idaho Falls</td>\n",
       "      <td>1</td>\n",
       "      <td>0.366840</td>\n",
       "      <td>366.840286</td>\n",
       "    </tr>\n",
       "    <tr>\n",
       "      <th>...</th>\n",
       "      <td>...</td>\n",
       "      <td>...</td>\n",
       "      <td>...</td>\n",
       "      <td>...</td>\n",
       "      <td>...</td>\n",
       "    </tr>\n",
       "    <tr>\n",
       "      <th>56</th>\n",
       "      <td>banner</td>\n",
       "      <td>Bell Gardens</td>\n",
       "      <td>7</td>\n",
       "      <td>0.000286</td>\n",
       "      <td>0.040858</td>\n",
       "    </tr>\n",
       "    <tr>\n",
       "      <th>801</th>\n",
       "      <td>banner</td>\n",
       "      <td>Vista</td>\n",
       "      <td>1270</td>\n",
       "      <td>0.051373</td>\n",
       "      <td>0.040451</td>\n",
       "    </tr>\n",
       "    <tr>\n",
       "      <th>464</th>\n",
       "      <td>banner</td>\n",
       "      <td>Malden</td>\n",
       "      <td>2293</td>\n",
       "      <td>0.086970</td>\n",
       "      <td>0.037929</td>\n",
       "    </tr>\n",
       "    <tr>\n",
       "      <th>17</th>\n",
       "      <td>banner</td>\n",
       "      <td>Anderson</td>\n",
       "      <td>1</td>\n",
       "      <td>0.000031</td>\n",
       "      <td>0.030573</td>\n",
       "    </tr>\n",
       "    <tr>\n",
       "      <th>108</th>\n",
       "      <td>banner</td>\n",
       "      <td>Canonsburg</td>\n",
       "      <td>445</td>\n",
       "      <td>0.013046</td>\n",
       "      <td>0.029317</td>\n",
       "    </tr>\n",
       "  </tbody>\n",
       "</table>\n",
       "<p>2179 rows × 5 columns</p>\n",
       "</div>"
      ],
      "text/plain": [
       "          ad_type          city  count_revenue  sum_revenue   ecpm_city\n",
       "1846        video   East Peoria              3     2.424884  808.294820\n",
       "2033        video       Norwood              1     0.597984  597.984497\n",
       "1313  full_screen  Madisonville              3     1.311120  437.039882\n",
       "1255  full_screen     La Crosse              3     1.245478  415.159332\n",
       "1922        video   Idaho Falls              1     0.366840  366.840286\n",
       "...           ...           ...            ...          ...         ...\n",
       "56         banner  Bell Gardens              7     0.000286    0.040858\n",
       "801        banner         Vista           1270     0.051373    0.040451\n",
       "464        banner        Malden           2293     0.086970    0.037929\n",
       "17         banner      Anderson              1     0.000031    0.030573\n",
       "108        banner    Canonsburg            445     0.013046    0.029317\n",
       "\n",
       "[2179 rows x 5 columns]"
      ]
     },
     "metadata": {},
     "output_type": "display_data"
    },
    {
     "data": {
      "text/plain": [
       "None"
      ]
     },
     "metadata": {},
     "output_type": "display_data"
    }
   ],
   "source": [
    "data_city = data.groupby(['ad_type','city']).agg({'revenue':['count', 'sum']}).reset_index()\n",
    "data_city.columns = ['ad_type', 'city','count_revenue', 'sum_revenue']\n",
    "\n",
    "data_city['ecpm_city'] = data_city['sum_revenue']/data_city['count_revenue'] * 1000\n",
    "display(data_city.sort_values(by='ecpm_city', ascending=False), data_city.info())\n",
    "data_city.to_csv(r'C:/Praktikum/test_uga/data_city.csv', index = False)"
   ]
  },
  {
   "cell_type": "code",
   "execution_count": 67,
   "id": "22ef7c6b",
   "metadata": {},
   "outputs": [],
   "source": [
    "data_city_full_screen = data_city.query('ad_type == \"full_screen\"')\n",
    "data_city_banner = data_city.query('ad_type == \"banner\"')\n",
    "data_city_video = data_city.query('ad_type == \"video\"')"
   ]
  },
  {
   "cell_type": "markdown",
   "id": "b0f8e4be",
   "metadata": {},
   "source": [
    "Чтобы проанализировать распределение средних по городам по разным типам рекламы мы сделали три отдельных датасета."
   ]
  },
  {
   "cell_type": "code",
   "execution_count": 69,
   "id": "f7fc2741",
   "metadata": {
    "scrolled": true
   },
   "outputs": [
    {
     "name": "stdout",
     "output_type": "stream",
     "text": [
      "Городов, в которых показывали полноэкранную рекламу 869 \n",
      "Городов, в которых показывали баннерную рекламу 856 \n",
      "Городов, в которых показывали видеорекламу 454\n"
     ]
    }
   ],
   "source": [
    "print('Городов, в которых показывали полноэкранную рекламу', data_city_full_screen['city'].nunique(), '\\nГородов, в которых показывали баннерную рекламу', data_city_banner['city'].nunique(), '\\nГородов, в которых показывали видеорекламу', data_city_video['city'].nunique())"
   ]
  },
  {
   "cell_type": "markdown",
   "id": "2dbe3f3f",
   "metadata": {},
   "source": [
    "Мы видим, что всего у нас в данных есть 920 городов, но каждый вид рекламы показывали не во всех. Видеорекламу показывали всего в 358 городах."
   ]
  },
  {
   "cell_type": "markdown",
   "id": "e007976d",
   "metadata": {},
   "source": [
    "<b>Для наглядности я сделала дашборд в Табло\n",
    "\n",
    "https://public.tableau.com/views/eCPMcities/CitieswitheCPM?:language=en-US&:display_count=n&:origin=viz_share_link</b>\n",
    "\n",
    "К сожалению, Табло распознал не все города, но некоторые выводы сделать можно. Дело в том, что в датасете 920 городов, по названию почти всех из них непонятно, где они находятся. На карте это выглядит нагляднее."
   ]
  },
  {
   "cell_type": "markdown",
   "id": "d92faf9d",
   "metadata": {},
   "source": [
    "<b>По дашборду можно сделать следующие выводы: </b>\n",
    "\n",
    "1) Самый высокий eCPM в целом приносят Калифорния и Иллинойс (больше 300). Самый низкий - Пенсильвания (0,03 доллара).\n",
    "\n",
    "2) У полноэкранной рекламы высокий eCPM (порядка 300 долларов) и его тоже приносят Калифорния и Иллинойс. Самый низкий - Колумбия и Флорида (меньше 5 долларов).\n",
    "\n",
    "3) У баннерной рекламы по-прежнему низкий eCPM, меньше 7 долларов. Самые высокие eCPM у баннерной рекламы в Калифорнии и Нью-Йорке. Самый низкий - в Пенсильвании (0,03 доллара).\n",
    "\n",
    "4) У видеорекламы eCPM до 200, самый высокие в Колорадо, Техасе, Нью-Йорке и Каролине (город ровно между северной и южной). Минимальный eCPM у видео рекламы 24,3, это Атланта.\n",
    "\n",
    "5) Полноэкранную и баннерную рекламы показывали практически в одинаковом количестве города (873 и 856), а вот видеорекламу всего лишь в 357.\n",
    "\n"
   ]
  },
  {
   "cell_type": "markdown",
   "id": "beee4206",
   "metadata": {},
   "source": [
    "### Распределение eCPM полноэкранной рекламы"
   ]
  },
  {
   "cell_type": "code",
   "execution_count": 70,
   "id": "2c36422f",
   "metadata": {},
   "outputs": [
    {
     "data": {
      "image/png": "[encoded data removed]",
      "text/plain": [
       "<Figure size 1008x360 with 1 Axes>"
      ]
     },
     "metadata": {
      "needs_background": "light"
     },
     "output_type": "display_data"
    },
    {
     "data": {
      "text/plain": [
       "count    869.000000\n",
       "mean      44.829423\n",
       "std       44.671766\n",
       "min        2.750576\n",
       "25%       19.411409\n",
       "50%       31.001778\n",
       "75%       52.142344\n",
       "max      437.039882\n",
       "Name: ecpm_city, dtype: float64"
      ]
     },
     "execution_count": 70,
     "metadata": {},
     "output_type": "execute_result"
    }
   ],
   "source": [
    "built_hist(data_city_full_screen, 'ecpm_city', 'Распределение eCPM полноэкранной рекламы в городах')\n",
    "data_city_full_screen['ecpm_city'].describe()"
   ]
  },
  {
   "cell_type": "markdown",
   "id": "da3a8fd4",
   "metadata": {},
   "source": [
    "Мы видим, что основная часть eCPM находится в промежутке от 20 до 50 долларов, но есть и выбросы до 437. Медианное значение 31 доллар, стандартное отклонение - 45,8, что значительно. \n",
    "Посмотрим, как это распределено на диаграмме распределения."
   ]
  },
  {
   "cell_type": "code",
   "execution_count": 71,
   "id": "9046e06a",
   "metadata": {},
   "outputs": [
    {
     "data": {
      "image/png": "[encoded data removed]",
      "text/plain": [
       "<Figure size 432x288 with 1 Axes>"
      ]
     },
     "metadata": {
      "needs_background": "light"
     },
     "output_type": "display_data"
    },
    {
     "name": "stdout",
     "output_type": "stream",
     "text": [
      "Процентное распределение в данных равно [ 88.5302246  131.         216.02748186]\n"
     ]
    }
   ],
   "source": [
    "built_scatter(data_city_full_screen, 'ecpm_city', 'eCPM полноэкранной рекламы в городах', 'Количество городов', 'Размер eCPM')"
   ]
  },
  {
   "cell_type": "markdown",
   "id": "e825e5de",
   "metadata": {},
   "source": [
    "И по скаттерплоту и по процентному распределению мы видим выбросы. Примем за выброс eCPM выше 210 долларов и отфильтруем данные по нему."
   ]
  },
  {
   "cell_type": "code",
   "execution_count": 72,
   "id": "6aff6e20",
   "metadata": {},
   "outputs": [
    {
     "data": {
      "text/plain": [
       "count    858.000000\n",
       "mean      41.938717\n",
       "std       35.834109\n",
       "min        2.750576\n",
       "25%       19.264366\n",
       "50%       30.519235\n",
       "75%       51.094325\n",
       "max      199.990250\n",
       "Name: ecpm_city, dtype: float64"
      ]
     },
     "execution_count": 72,
     "metadata": {},
     "output_type": "execute_result"
    }
   ],
   "source": [
    "data_city_full_screen_cleared = data_city_full_screen.query('ecpm_city < 210')\n",
    "data_city_full_screen_cleared['ecpm_city'].describe()"
   ]
  },
  {
   "cell_type": "markdown",
   "id": "0cc18fa3",
   "metadata": {},
   "source": [
    "После фильтрации ушло 9 значений, при этом стандартное отклонение уменьшилось на 9 пунктов. Но стандартное отклонение все равно высокое, так что мы будем ориентироваться на медианное, а не на среднее значение.\n",
    "\n",
    "<b>Медианное значение eCPM для полноэкранной рекламы по городам после удаления выбросов - 30,5$. </b>"
   ]
  },
  {
   "cell_type": "markdown",
   "id": "1802a8ae",
   "metadata": {},
   "source": [
    "### Распределение eCPM баннерной рекламы в городах"
   ]
  },
  {
   "cell_type": "code",
   "execution_count": 73,
   "id": "d2156fae",
   "metadata": {
    "scrolled": true
   },
   "outputs": [
    {
     "data": {
      "image/png": "[encoded data removed]",
      "text/plain": [
       "<Figure size 1008x360 with 1 Axes>"
      ]
     },
     "metadata": {
      "needs_background": "light"
     },
     "output_type": "display_data"
    },
    {
     "data": {
      "text/plain": [
       "count    856.000000\n",
       "mean       1.026122\n",
       "std        1.439121\n",
       "min        0.029317\n",
       "25%        0.342273\n",
       "50%        0.568364\n",
       "75%        1.088064\n",
       "max       19.326435\n",
       "Name: ecpm_city, dtype: float64"
      ]
     },
     "execution_count": 73,
     "metadata": {},
     "output_type": "execute_result"
    }
   ],
   "source": [
    "built_hist(data_city_banner, 'ecpm_city', 'Распределение eCPM баннерной рекламы в городах')\n",
    "data_city_banner['ecpm_city'].describe()"
   ]
  },
  {
   "cell_type": "markdown",
   "id": "525a3658",
   "metadata": {},
   "source": [
    "Распределение eCPM баннерной рекламы неоднородное - стандартное отклонение 1,4, а медиана 0,56. Три четверти eCPM меньше 1,08, а максимальное значение - 19,3. Посмотрим на выбросы в данных."
   ]
  },
  {
   "cell_type": "code",
   "execution_count": 74,
   "id": "2657e81e",
   "metadata": {},
   "outputs": [
    {
     "data": {
      "image/png": "[encoded data removed]",
      "text/plain": [
       "<Figure size 432x288 with 1 Axes>"
      ]
     },
     "metadata": {
      "needs_background": "light"
     },
     "output_type": "display_data"
    },
    {
     "name": "stdout",
     "output_type": "stream",
     "text": [
      "Процентное распределение в данных равно [2.36596376 3.26366018 6.95554792]\n"
     ]
    }
   ],
   "source": [
    "built_scatter(data_city_banner, 'ecpm_city', 'eCPM баннерной рекламы в городах', 'Количество городов', 'Размер eCPM')"
   ]
  },
  {
   "cell_type": "markdown",
   "id": "24b400cb",
   "metadata": {},
   "source": [
    "На скаттерплоте, как и на гистограмме, видно, что большинство eCPM сконцентрировано ниже 2,5. Выше 7 только одиночные выбросы. Судя по процентному распределению, лишь 1% данных больше 6,95. Мы примем это как выброс в данных и удалим."
   ]
  },
  {
   "cell_type": "code",
   "execution_count": 75,
   "id": "63c627bb",
   "metadata": {},
   "outputs": [
    {
     "data": {
      "text/plain": [
       "count    847.000000\n",
       "mean       0.938352\n",
       "std        1.093215\n",
       "min        0.029317\n",
       "25%        0.339281\n",
       "50%        0.562568\n",
       "75%        1.069044\n",
       "max        6.929203\n",
       "Name: ecpm_city, dtype: float64"
      ]
     },
     "execution_count": 75,
     "metadata": {},
     "output_type": "execute_result"
    }
   ],
   "source": [
    "data_city_banner_cleared = data_city_banner.query('ecpm_city < 6.95')\n",
    "data_city_banner_cleared['ecpm_city'].describe()"
   ]
  },
  {
   "cell_type": "markdown",
   "id": "0728c69e",
   "metadata": {},
   "source": [
    "Здесь, как и в полноэкранной рекламе, выброс был из 9 значений, стандартное отклонение уменьшилось в полтора раза, при этом медиана практически не изменилась.\n",
    "\n",
    "<b>Медианное значение eCPM баннерной рекламы в городах после удаления выбросов - 0,56$. </b>"
   ]
  },
  {
   "cell_type": "markdown",
   "id": "230c2174",
   "metadata": {},
   "source": [
    "### Распределение eCPM видео рекламы"
   ]
  },
  {
   "cell_type": "code",
   "execution_count": 76,
   "id": "34ee0df5",
   "metadata": {},
   "outputs": [
    {
     "data": {
      "image/png": "[encoded data removed]",
      "text/plain": [
       "<Figure size 1008x360 with 1 Axes>"
      ]
     },
     "metadata": {
      "needs_background": "light"
     },
     "output_type": "display_data"
    },
    {
     "data": {
      "text/plain": [
       "count    454.000000\n",
       "mean      80.532356\n",
       "std       76.601650\n",
       "min        3.339551\n",
       "25%       28.240000\n",
       "50%       55.959567\n",
       "75%      104.940871\n",
       "max      808.294820\n",
       "Name: ecpm_city, dtype: float64"
      ]
     },
     "execution_count": 76,
     "metadata": {},
     "output_type": "execute_result"
    }
   ],
   "source": [
    "built_hist(data_city_video, 'ecpm_city', 'Распределение eCPM видео рекламы в городах')\n",
    "data_city_video['ecpm_city'].describe()"
   ]
  },
  {
   "cell_type": "markdown",
   "id": "f48de1cf",
   "metadata": {},
   "source": [
    "eCPM видео рекламы в городах распределено так же, как и по пользователям: три больших всплеска, довольно много значений между 25 и 50, а дальше относительно мало за исключением пиков на 80 и 211 долларах. \n",
    "\n",
    "Стандартное отклонение высокое, медианное значение 69,7$. Эти всплески мы удалять не будем, потому что это не единичные выбросы, а статистически значимые данные."
   ]
  },
  {
   "cell_type": "code",
   "execution_count": 77,
   "id": "58807403",
   "metadata": {},
   "outputs": [
    {
     "data": {
      "image/png": "[encoded data removed]",
      "text/plain": [
       "<Figure size 432x288 with 1 Axes>"
      ]
     },
     "metadata": {
      "needs_background": "light"
     },
     "output_type": "display_data"
    },
    {
     "name": "stdout",
     "output_type": "stream",
     "text": [
      "Процентное распределение в данных равно [199.24764272 211.7        283.97722854]\n"
     ]
    }
   ],
   "source": [
    "built_scatter(data_city_video, 'ecpm_city', 'eCPM видео рекламы в городах', 'Количество городов', 'Размер eCPM')"
   ]
  },
  {
   "cell_type": "markdown",
   "id": "6bde3967",
   "metadata": {},
   "source": [
    "Скаттерплот и процентное распределение подтвердили вывод: в видеорекламе нет выбросов, есть три пика значений. Это подтверждает вывод из раздела про распределение eCPM среди пользователей: пользователю нужно отсмотреть определенное количество видеорекламы, чтобы получить некое вознаграждение. Именно этим мы можем объяснить три всплеска в данных.\n",
    "\n",
    "<b>Медианное значение eCPM видео рекламы по городам 69,7$</b>"
   ]
  },
  {
   "cell_type": "markdown",
   "id": "43e9a5c5",
   "metadata": {},
   "source": [
    "<b>Выводы по разделу:</b>\n",
    "\n",
    "1) В баннерной и полноэкранном видах рекламы были выбросы. Мы удалили их в процессе исследования. В видео рекламе данные распространены неравномерно, есть три всплеска. Их мы удалять не стали.\n",
    "\n",
    "2) Медианное значение eCPM для полноэкранной рекламы по городам после удаления выбросов - 30,5 долларов.\n",
    "\n",
    "3) Медианное значение eCPM баннерной рекламы в городах после удаления выбросов - 0,56 долларов. \n",
    "\n",
    "4) Медианное значение eCPM видео рекламы по городам 69,7 долларов."
   ]
  },
  {
   "cell_type": "markdown",
   "id": "530db1f8",
   "metadata": {},
   "source": [
    "## Распределение суммарных доходов по городам и версиям ОС"
   ]
  },
  {
   "cell_type": "markdown",
   "id": "90397f12",
   "metadata": {},
   "source": [
    "### Распределение суммарных доходов по версиям ОС"
   ]
  },
  {
   "cell_type": "markdown",
   "id": "7e93866b",
   "metadata": {},
   "source": [
    "В этом разделе мы рассмотрим распределение суммарных доходов по вресиям ОС. То есть тот доход, который мы реально получили от разных типов реклам на разных устройствах."
   ]
  },
  {
   "cell_type": "code",
   "execution_count": 78,
   "id": "9699de11",
   "metadata": {},
   "outputs": [
    {
     "data": {
      "text/plain": [
       "Text(0, 0.5, 'Total eCPM')"
      ]
     },
     "execution_count": 78,
     "metadata": {},
     "output_type": "execute_result"
    },
    {
     "data": {
      "image/png": "[encoded data removed]",
      "text/plain": [
       "<Figure size 864x576 with 1 Axes>"
      ]
     },
     "metadata": {
      "needs_background": "light"
     },
     "output_type": "display_data"
    },
    {
     "data": {
      "image/png": "[encoded data removed]",
      "text/plain": [
       "<Figure size 864x576 with 1 Axes>"
      ]
     },
     "metadata": {
      "needs_background": "light"
     },
     "output_type": "display_data"
    }
   ],
   "source": [
    "plt.figure(figsize = (12,8))\n",
    "fig = sns.barplot(x='os_versions', y='sum_revenue', data=data_os)\n",
    "fig.set_title('OS by total revenue',fontsize='14')\n",
    "fig.set_xlabel('OS', fontsize='12')\n",
    "fig.set_ylabel('Total revenue', fontsize='10')\n",
    "plt.figure(figsize = (12,8))\n",
    "fig = sns.barplot(x='os_versions', y='ecpm_os', data=data_os)\n",
    "fig.set_title('OS by total eCPM',fontsize='14')\n",
    "fig.set_xlabel('OS', fontsize='12')\n",
    "fig.set_ylabel('Total eCPM', fontsize='10')"
   ]
  },
  {
   "cell_type": "markdown",
   "id": "50ea42c9",
   "metadata": {},
   "source": [
    "Мы построили два графика рядом: с eCPM и с общей выручкой, чтобы наглядно увидеть разницу. Графики различаются очень сильно: eCPM выше всего у 7 ОС, тогда как доход от нее незначительный. Версия ОС № 12 приносит и высокий eCPM и высокий доход, то же самое с 11 и 10 версией. На графике с общей выручкой можно увидеть и 9 версию, но остальных совсем нет. \n",
    "\n",
    "<b>Это можно объяснить тем, что версии ОС ниже 9 в 2022 году практически не используются, поэтому доход от них незначительный. </b>"
   ]
  },
  {
   "cell_type": "code",
   "execution_count": 79,
   "id": "d267f033",
   "metadata": {},
   "outputs": [
    {
     "data": {
      "text/plain": [
       "Text(0, 0.5, 'eCPM')"
      ]
     },
     "execution_count": 79,
     "metadata": {},
     "output_type": "execute_result"
    },
    {
     "data": {
      "image/png": "[encoded data removed]",
      "text/plain": [
       "<Figure size 1080x576 with 1 Axes>"
      ]
     },
     "metadata": {
      "needs_background": "light"
     },
     "output_type": "display_data"
    },
    {
     "data": {
      "image/png": "[encoded data removed]",
      "text/plain": [
       "<Figure size 1080x576 with 1 Axes>"
      ]
     },
     "metadata": {
      "needs_background": "light"
     },
     "output_type": "display_data"
    }
   ],
   "source": [
    "data_os.pivot_table(index=['ad_type'], columns='os_versions', values='sum_revenue', aggfunc='median').plot(grid=True, figsize=(15, 8))\n",
    "plt.title('Распределение выручки по типам рекламы')\n",
    "plt.xlabel('Тип рекламы')\n",
    "plt.ylabel('Выручка')\n",
    "data_os.pivot_table(index=['ad_type'], columns='os_versions', values='ecpm_os', aggfunc='median').plot(grid=True, figsize=(15, 8))\n",
    "plt.title('Распределение eCPM по типам рекламы')\n",
    "plt.xlabel('Тип рекламы')\n",
    "plt.ylabel('eCPM')"
   ]
  },
  {
   "cell_type": "markdown",
   "id": "9edc1485",
   "metadata": {},
   "source": [
    "Здесь мы сравним выручку по операционным системам и eCPM. Напомним, самый высокий eCPM у видеорекламы для всех версий, самый низкий - у баннерной. По версиям ОС - самый высокий eCPM у 7 и 12 версий, самый низкий у 5, 6, 8.\n",
    "\n",
    "Если мы смотрим на распределение eCPM по общей выручке, то видим, что самая прибыльная реклама - полноэкранная, самая прибыльная версия ОС - 12, за ней идут 11 и 10 версии. И выручка по полноэкранной рекламе значительно превышает выручку по баннерной и видеорекламе.\n",
    "eCPM по всем показателям был выше у видеорекламы, но выручки она приносит меньше всего у всех ОС.\n",
    "\n",
    "<b> Согласно проведенному анализу выручки по операционным системам, мы можем сделать следующие выводы:\n",
    "\n",
    "    1) Больше всего выручки приносят версии ОС, вышедшие в последние три года. Девятая версия вышла в 2018 году и к 2022 \n",
    "    доход от рекламы на этой версии ОС довольно низкий, не говоря уж о версиях, вышедших раньше.\n",
    "    \n",
    "    2) Больше всего выручки приносит полноэкранная реклама, меньше всего - видео, несмотря на то, что eCPM видео рекламы стабильное выше, чем у остальных. Это объясняется тем, что видеорекламу смотрит меньше всего пользователей. Так что хоть и один ее просмотр приносит выручку больше, чем полноэкранной и баннеров, но в абсолютных числах она меньше.\n",
    "</b>"
   ]
  },
  {
   "cell_type": "markdown",
   "id": "30d3b6fb",
   "metadata": {},
   "source": [
    "### Распределение суммарных доходов по городам"
   ]
  },
  {
   "cell_type": "markdown",
   "id": "1903ebc8",
   "metadata": {},
   "source": [
    "В этом разделе мы рассмотрим, как суммарная выручка разных типов рекламы различается в разных городах США."
   ]
  },
  {
   "cell_type": "code",
   "execution_count": 80,
   "id": "229e1210",
   "metadata": {
    "scrolled": true
   },
   "outputs": [
    {
     "name": "stdout",
     "output_type": "stream",
     "text": [
      "Городов, в которых показывали полноэкранную рекламу 869 \n",
      "Городов, в которых показывали баннерную рекламу 856 \n",
      "Городов, в которых показывали видеорекламу 454\n"
     ]
    }
   ],
   "source": [
    "print('Городов, в которых показывали полноэкранную рекламу', data_city_full_screen['city'].nunique(), '\\nГородов, в которых показывали баннерную рекламу', data_city_banner['city'].nunique(), '\\nГородов, в которых показывали видеорекламу', data_city_video['city'].nunique())"
   ]
  },
  {
   "cell_type": "code",
   "execution_count": 81,
   "id": "06872b61",
   "metadata": {},
   "outputs": [
    {
     "name": "stdout",
     "output_type": "stream",
     "text": [
      "Информацию о городе юзера содержит 63.58 % доходов\n"
     ]
    }
   ],
   "source": [
    "print('Информацию о городе юзера содержит','{0:.2f}'.format(data.query('city == city')['revenue'].sum()/data['revenue'].sum() * 100), '% доходов')"
   ]
  },
  {
   "cell_type": "markdown",
   "id": "f65ed855",
   "metadata": {},
   "source": [
    "<b>Дашборд по суммарной выручке: \n",
    "    \n",
    "https://public.tableau.com/views/revenuecities/Citiessrevenue?:language=en-US&:display_count=n&:origin=viz_share_link </b>"
   ]
  },
  {
   "cell_type": "code",
   "execution_count": 82,
   "id": "a0e9553e",
   "metadata": {
    "scrolled": false
   },
   "outputs": [
    {
     "data": {
      "text/html": [
       "<div>\n",
       "<style scoped>\n",
       "    .dataframe tbody tr th:only-of-type {\n",
       "        vertical-align: middle;\n",
       "    }\n",
       "\n",
       "    .dataframe tbody tr th {\n",
       "        vertical-align: top;\n",
       "    }\n",
       "\n",
       "    .dataframe thead th {\n",
       "        text-align: right;\n",
       "    }\n",
       "</style>\n",
       "<table border=\"1\" class=\"dataframe\">\n",
       "  <thead>\n",
       "    <tr style=\"text-align: right;\">\n",
       "      <th></th>\n",
       "      <th>sum_revenue</th>\n",
       "    </tr>\n",
       "    <tr>\n",
       "      <th>city</th>\n",
       "      <th></th>\n",
       "    </tr>\n",
       "  </thead>\n",
       "  <tbody>\n",
       "    <tr>\n",
       "      <th>New York</th>\n",
       "      <td>47.454397</td>\n",
       "    </tr>\n",
       "    <tr>\n",
       "      <th>Indianapolis</th>\n",
       "      <td>36.679515</td>\n",
       "    </tr>\n",
       "    <tr>\n",
       "      <th>Houston</th>\n",
       "      <td>34.551763</td>\n",
       "    </tr>\n",
       "    <tr>\n",
       "      <th>Minneapolis</th>\n",
       "      <td>34.235291</td>\n",
       "    </tr>\n",
       "    <tr>\n",
       "      <th>Cleveland</th>\n",
       "      <td>32.475495</td>\n",
       "    </tr>\n",
       "    <tr>\n",
       "      <th>Charlotte</th>\n",
       "      <td>25.620972</td>\n",
       "    </tr>\n",
       "    <tr>\n",
       "      <th>Columbus</th>\n",
       "      <td>22.158861</td>\n",
       "    </tr>\n",
       "    <tr>\n",
       "      <th>Los Angeles</th>\n",
       "      <td>19.740347</td>\n",
       "    </tr>\n",
       "    <tr>\n",
       "      <th>Spokane</th>\n",
       "      <td>18.923951</td>\n",
       "    </tr>\n",
       "    <tr>\n",
       "      <th>Dallas</th>\n",
       "      <td>18.747376</td>\n",
       "    </tr>\n",
       "  </tbody>\n",
       "</table>\n",
       "</div>"
      ],
      "text/plain": [
       "              sum_revenue\n",
       "city                     \n",
       "New York        47.454397\n",
       "Indianapolis    36.679515\n",
       "Houston         34.551763\n",
       "Minneapolis     34.235291\n",
       "Cleveland       32.475495\n",
       "Charlotte       25.620972\n",
       "Columbus        22.158861\n",
       "Los Angeles     19.740347\n",
       "Spokane         18.923951\n",
       "Dallas          18.747376"
      ]
     },
     "metadata": {},
     "output_type": "display_data"
    }
   ],
   "source": [
    "display(data_city.groupby('city').agg({'sum_revenue':'sum'}).sort_values(by='sum_revenue', ascending=False).head(10))"
   ]
  },
  {
   "cell_type": "code",
   "execution_count": 83,
   "id": "fd09f488",
   "metadata": {
    "scrolled": false
   },
   "outputs": [
    {
     "data": {
      "text/html": [
       "<div>\n",
       "<style scoped>\n",
       "    .dataframe tbody tr th:only-of-type {\n",
       "        vertical-align: middle;\n",
       "    }\n",
       "\n",
       "    .dataframe tbody tr th {\n",
       "        vertical-align: top;\n",
       "    }\n",
       "\n",
       "    .dataframe thead th {\n",
       "        text-align: right;\n",
       "    }\n",
       "</style>\n",
       "<table border=\"1\" class=\"dataframe\">\n",
       "  <thead>\n",
       "    <tr style=\"text-align: right;\">\n",
       "      <th></th>\n",
       "      <th>sum_revenue</th>\n",
       "    </tr>\n",
       "    <tr>\n",
       "      <th>city</th>\n",
       "      <th></th>\n",
       "    </tr>\n",
       "  </thead>\n",
       "  <tbody>\n",
       "    <tr>\n",
       "      <th>New York</th>\n",
       "      <td>25.674272</td>\n",
       "    </tr>\n",
       "    <tr>\n",
       "      <th>Indianapolis</th>\n",
       "      <td>21.534431</td>\n",
       "    </tr>\n",
       "    <tr>\n",
       "      <th>Cleveland</th>\n",
       "      <td>18.112861</td>\n",
       "    </tr>\n",
       "    <tr>\n",
       "      <th>Minneapolis</th>\n",
       "      <td>17.286339</td>\n",
       "    </tr>\n",
       "    <tr>\n",
       "      <th>Charlotte</th>\n",
       "      <td>14.940739</td>\n",
       "    </tr>\n",
       "    <tr>\n",
       "      <th>Houston</th>\n",
       "      <td>14.497606</td>\n",
       "    </tr>\n",
       "    <tr>\n",
       "      <th>Columbus</th>\n",
       "      <td>12.372557</td>\n",
       "    </tr>\n",
       "    <tr>\n",
       "      <th>Los Angeles</th>\n",
       "      <td>12.181897</td>\n",
       "    </tr>\n",
       "    <tr>\n",
       "      <th>Dallas</th>\n",
       "      <td>10.198381</td>\n",
       "    </tr>\n",
       "    <tr>\n",
       "      <th>Cincinnati</th>\n",
       "      <td>10.133485</td>\n",
       "    </tr>\n",
       "  </tbody>\n",
       "</table>\n",
       "</div>"
      ],
      "text/plain": [
       "              sum_revenue\n",
       "city                     \n",
       "New York        25.674272\n",
       "Indianapolis    21.534431\n",
       "Cleveland       18.112861\n",
       "Minneapolis     17.286339\n",
       "Charlotte       14.940739\n",
       "Houston         14.497606\n",
       "Columbus        12.372557\n",
       "Los Angeles     12.181897\n",
       "Dallas          10.198381\n",
       "Cincinnati      10.133485"
      ]
     },
     "metadata": {},
     "output_type": "display_data"
    },
    {
     "data": {
      "text/plain": [
       "count    869.000000\n",
       "mean       0.992543\n",
       "std        2.179647\n",
       "min        0.002891\n",
       "25%        0.105106\n",
       "50%        0.318778\n",
       "75%        0.884545\n",
       "max       25.674272\n",
       "Name: sum_revenue, dtype: float64"
      ]
     },
     "metadata": {},
     "output_type": "display_data"
    }
   ],
   "source": [
    "display(data_city_full_screen.groupby('city').agg({'sum_revenue':'sum'}).sort_values(by='sum_revenue', ascending=False).head(10))\n",
    "display(data_city_full_screen['sum_revenue'].describe())"
   ]
  },
  {
   "cell_type": "code",
   "execution_count": 84,
   "id": "ff6416f8",
   "metadata": {
    "scrolled": true
   },
   "outputs": [
    {
     "data": {
      "text/html": [
       "<div>\n",
       "<style scoped>\n",
       "    .dataframe tbody tr th:only-of-type {\n",
       "        vertical-align: middle;\n",
       "    }\n",
       "\n",
       "    .dataframe tbody tr th {\n",
       "        vertical-align: top;\n",
       "    }\n",
       "\n",
       "    .dataframe thead th {\n",
       "        text-align: right;\n",
       "    }\n",
       "</style>\n",
       "<table border=\"1\" class=\"dataframe\">\n",
       "  <thead>\n",
       "    <tr style=\"text-align: right;\">\n",
       "      <th></th>\n",
       "      <th>sum_revenue</th>\n",
       "    </tr>\n",
       "    <tr>\n",
       "      <th>city</th>\n",
       "      <th></th>\n",
       "    </tr>\n",
       "  </thead>\n",
       "  <tbody>\n",
       "    <tr>\n",
       "      <th>New York</th>\n",
       "      <td>12.708617</td>\n",
       "    </tr>\n",
       "    <tr>\n",
       "      <th>Indianapolis</th>\n",
       "      <td>9.789215</td>\n",
       "    </tr>\n",
       "    <tr>\n",
       "      <th>Spokane</th>\n",
       "      <td>8.862484</td>\n",
       "    </tr>\n",
       "    <tr>\n",
       "      <th>Houston</th>\n",
       "      <td>8.664916</td>\n",
       "    </tr>\n",
       "    <tr>\n",
       "      <th>Minneapolis</th>\n",
       "      <td>7.629354</td>\n",
       "    </tr>\n",
       "    <tr>\n",
       "      <th>Cleveland</th>\n",
       "      <td>7.564766</td>\n",
       "    </tr>\n",
       "    <tr>\n",
       "      <th>Charlotte</th>\n",
       "      <td>6.888516</td>\n",
       "    </tr>\n",
       "    <tr>\n",
       "      <th>Gardena</th>\n",
       "      <td>5.827963</td>\n",
       "    </tr>\n",
       "    <tr>\n",
       "      <th>Dallas</th>\n",
       "      <td>5.592234</td>\n",
       "    </tr>\n",
       "    <tr>\n",
       "      <th>Kansas City</th>\n",
       "      <td>5.582028</td>\n",
       "    </tr>\n",
       "  </tbody>\n",
       "</table>\n",
       "</div>"
      ],
      "text/plain": [
       "              sum_revenue\n",
       "city                     \n",
       "New York        12.708617\n",
       "Indianapolis     9.789215\n",
       "Spokane          8.862484\n",
       "Houston          8.664916\n",
       "Minneapolis      7.629354\n",
       "Cleveland        7.564766\n",
       "Charlotte        6.888516\n",
       "Gardena          5.827963\n",
       "Dallas           5.592234\n",
       "Kansas City      5.582028"
      ]
     },
     "metadata": {},
     "output_type": "display_data"
    },
    {
     "data": {
      "text/plain": [
       "count    856.000000\n",
       "mean       0.435164\n",
       "std        1.078178\n",
       "min        0.000031\n",
       "25%        0.023070\n",
       "50%        0.102468\n",
       "75%        0.353011\n",
       "max       12.708617\n",
       "Name: sum_revenue, dtype: float64"
      ]
     },
     "metadata": {},
     "output_type": "display_data"
    }
   ],
   "source": [
    "display(data_city_banner.groupby('city').agg({'sum_revenue':'sum'}).sort_values(by='sum_revenue', ascending=False).head(10))\n",
    "display(data_city_banner['sum_revenue'].describe())"
   ]
  },
  {
   "cell_type": "code",
   "execution_count": 85,
   "id": "8e139a86",
   "metadata": {
    "scrolled": false
   },
   "outputs": [
    {
     "data": {
      "text/html": [
       "<div>\n",
       "<style scoped>\n",
       "    .dataframe tbody tr th:only-of-type {\n",
       "        vertical-align: middle;\n",
       "    }\n",
       "\n",
       "    .dataframe tbody tr th {\n",
       "        vertical-align: top;\n",
       "    }\n",
       "\n",
       "    .dataframe thead th {\n",
       "        text-align: right;\n",
       "    }\n",
       "</style>\n",
       "<table border=\"1\" class=\"dataframe\">\n",
       "  <thead>\n",
       "    <tr style=\"text-align: right;\">\n",
       "      <th></th>\n",
       "      <th>sum_revenue</th>\n",
       "    </tr>\n",
       "    <tr>\n",
       "      <th>city</th>\n",
       "      <th></th>\n",
       "    </tr>\n",
       "  </thead>\n",
       "  <tbody>\n",
       "    <tr>\n",
       "      <th>Houston</th>\n",
       "      <td>11.389241</td>\n",
       "    </tr>\n",
       "    <tr>\n",
       "      <th>Minneapolis</th>\n",
       "      <td>9.319597</td>\n",
       "    </tr>\n",
       "    <tr>\n",
       "      <th>New York</th>\n",
       "      <td>9.071508</td>\n",
       "    </tr>\n",
       "    <tr>\n",
       "      <th>Oklahoma City</th>\n",
       "      <td>8.045251</td>\n",
       "    </tr>\n",
       "    <tr>\n",
       "      <th>Cleveland</th>\n",
       "      <td>6.797868</td>\n",
       "    </tr>\n",
       "    <tr>\n",
       "      <th>Rocky Mount</th>\n",
       "      <td>5.802239</td>\n",
       "    </tr>\n",
       "    <tr>\n",
       "      <th>Indianapolis</th>\n",
       "      <td>5.355870</td>\n",
       "    </tr>\n",
       "    <tr>\n",
       "      <th>Rockford</th>\n",
       "      <td>5.207039</td>\n",
       "    </tr>\n",
       "    <tr>\n",
       "      <th>Columbus</th>\n",
       "      <td>5.164140</td>\n",
       "    </tr>\n",
       "    <tr>\n",
       "      <th>Cincinnati</th>\n",
       "      <td>4.517578</td>\n",
       "    </tr>\n",
       "  </tbody>\n",
       "</table>\n",
       "</div>"
      ],
      "text/plain": [
       "               sum_revenue\n",
       "city                      \n",
       "Houston          11.389241\n",
       "Minneapolis       9.319597\n",
       "New York          9.071508\n",
       "Oklahoma City     8.045251\n",
       "Cleveland         6.797868\n",
       "Rocky Mount       5.802239\n",
       "Indianapolis      5.355870\n",
       "Rockford          5.207039\n",
       "Columbus          5.164140\n",
       "Cincinnati        4.517578"
      ]
     },
     "metadata": {},
     "output_type": "display_data"
    },
    {
     "data": {
      "text/plain": [
       "count    454.000000\n",
       "mean       0.627604\n",
       "std        1.218373\n",
       "min        0.004075\n",
       "25%        0.080640\n",
       "50%        0.211700\n",
       "75%        0.643971\n",
       "max       11.389241\n",
       "Name: sum_revenue, dtype: float64"
      ]
     },
     "metadata": {},
     "output_type": "display_data"
    }
   ],
   "source": [
    "display(data_city_video.groupby('city').agg({'sum_revenue':'sum'}).sort_values(by='sum_revenue', ascending=False).head(10))\n",
    "display(data_city_video['sum_revenue'].describe())"
   ]
  },
  {
   "cell_type": "code",
   "execution_count": 86,
   "id": "b3459dd2",
   "metadata": {},
   "outputs": [
    {
     "data": {
      "image/png": "[encoded data removed]",
      "text/plain": [
       "<Figure size 1008x360 with 1 Axes>"
      ]
     },
     "metadata": {
      "needs_background": "light"
     },
     "output_type": "display_data"
    }
   ],
   "source": [
    "built_hist(data_city_video, 'sum_revenue', 'Распределение eCPM видео рекламы в городах')"
   ]
  },
  {
   "cell_type": "markdown",
   "id": "9224f657",
   "metadata": {},
   "source": [
    "<b>По дашборду и датасету можно сделать следующие выводы: </b>\n",
    "\n",
    "1) Больше всего выручки со значительным отрывом приносит Нью Йорк, за ним Индианаполис, Хьюстон, Миннеаполис и Кливленд. Первые 10 позиций занимают крупные города.\n",
    "\n",
    "2) Это совпадает с распределением по полноэкранной рекламе. <b>Медианная выручка по полноэкранной рекламе 0,33.</b>\n",
    "\n",
    "3) У баннерной рекламы доход значительно меньше (в 2-3 раза), чем у полноэкранной. И распределение в первой десятке немного меняется: на третьем месте не Хьюстон, а Спокан, а еще в топ-10 появляются Даллас, Гардена и Канзас. \n",
    "<b>Медианная выручка по баннерной рекламе 0,10.</b>\n",
    "\n",
    "4) У видеорекламы доход примерно в 1,5 раза ниже, чем у баннерной, и первая десятка тоже отличается. На первом месте Хьюстон, потом Оклахома, Нью-Йорк на третьем. И в десятку поднимаются Рокфорд, Саванна и Лос-Анджелес. \n",
    "<b>Медианная выручка по видеорекламе 0,21.</b> В видеорекламе по сумме выручки сильно выделяется Хьюстон, но в данном случае это не выглядит выбросом.\n",
    "\n",
    "5) Полноэкранную и баннерную рекламы показывали практически в одинаковом количестве города (873 и 856), а вот видеорекламу всего лишь в 357.\n",
    "\n",
    "6) Исходя из данных в таблице, выбросов в выручке нет, доход распределен близко к равномерному.\n",
    "\n"
   ]
  },
  {
   "cell_type": "markdown",
   "id": "4b09531a",
   "metadata": {},
   "source": [
    "## Выводы по проведенному исследованию"
   ]
  },
  {
   "cell_type": "markdown",
   "id": "e3f87964",
   "metadata": {},
   "source": [
    "На основании проведенного нами исследования мы можем сделать следующие выводы:\n",
    "\n",
    "<b> По разделению по типам рекламы по пользователям: </b>\n",
    "\n",
    " 1)  Больше всего пользователей (3933 после удаления выбросов) смотрит полноэкранную рекламу, ее медианный eCPM 27,6$.\n",
    " \n",
    "2)  Медиана баннерной рекламы 0,57 доллара. Баннерную рекламу смотрит почти столько же пользователей (3471 после удаления выбросов), но eCPM у нее в несколько раз ниже. \n",
    "\n",
    "3)  Видео рекламу смотрят меньше всего пользователей (967), но eCPM у нее значительно выше, чем у других типов. Медиана у видео рекламы 54,4 доллара.\n",
    "\n",
    "4)  У всех типов реклам есть всплески в определенных частях графиков. Можно предположить, что у полноэкранной и баннерной рекламы - это доход от рекламы, показанной в определенное, популярное для игр время. У видео же рекламы это может быть связано с вознаграждениями пользователям, посмотревшим определенное количество роликов.\n",
    "\n",
    "<b> По распределению eCPM по типам рекламы по ОС видно слелующее: </b> \n",
    "\n",
    "1) OC 12 приносит больше всего eCPM в баннерах и полноэкранной рекламе, но в видео ее опережает ОС 7.0. \n",
    "\n",
    "2) Также хороший eCPM у ОС 10 и 11, они идут рядом.\n",
    "\n",
    "3) Пользователи с ОС 5.0.2 вообще не смотрят видеорекламу. Возможно, она не поддерживается в этой версии операционной системы.\n",
    "\n",
    "\n",
    "<b> По распределению eCPM по типам рекламы по городам можно сделать следующие выводы: </b> \n",
    "\n",
    "1) Полноэкранную и баннерную рекламы показывали практически в одинаковом количестве города (873 и 856), а вот видеорекламу всего лишь в 357.\n",
    "2) Медианное значение eCPM для полноэкранной рекламы по городам после удаления выбросов - 30,5 долларов.\n",
    "\n",
    "3) Медианное значение eCPM баннерной рекламы в городах после удаления выбросов - 0,56 долларов. \n",
    "\n",
    "4) Медианное значение eCPM видео рекламы по городам 69,7 долларов.\n",
    "\n",
    "\n",
    "<b> Выводы по анализу выручки по типам рекламы и по операционным системам: </b>\n",
    "\n",
    "1) Больше всего выручки приносят версии ОС, вышедшие в последние три года. Девятая версия вышла в 2018 году и к 2022 доход от рекламы на этой версии ОС довольно низкий, не говоря уж о версиях, вышедших раньше.\n",
    "    \n",
    "2) Больше всего выручки приносит полноэкранная реклама, меньше всего - видео, несмотря на то, что eCPM видео рекламы стабильное выше, чем у остальных. Это объясняется тем, что видеорекламу смотрит меньше всего пользователей. Так что хоть и один ее просмотр приносит выручку больше, чем полноэкранной и баннеров, но в абсолютных числах она все равно меньше.\n",
    "\n",
    "<b>Выводы по анализу выручки по типам рекламы и городам: </b>\n",
    "\n",
    "1) Больше всего выручки со значительным отрывом приносит Нью Йорк, за ним Индианаполис, Хьюстон, Миннеаполис и Кливленд. Первые 10 позиций занимают крупные города.\n",
    "\n",
    "2) Это совпадает с распределением по полноэкранной рекламе. Медианная выручка по полноэкранной рекламе 0,33.\n",
    "\n",
    "3) У баннерной рекламы доход значительно меньше (в 2-3 раза), чем у полноэкранной. И распределение в первой десятке немного меняется: на третьем месте не Хьюстон, а Спокан, а еще в топ-10 появляются Даллас, Гардена и Канзас. Медианная выручка по баннерной рекламе 0,10.\n",
    "\n",
    "4) У видеорекламы доход примерно в 1,5 раза ниже, чем у баннерной, и первая десятка тоже отличается. На первом месте Хьюстон, потом Оклахома, Нью-Йорк на третьем. И в десятку поднимаются Рокфорд, Саванна и Лос-Анджелес. Медианная выручка по видеорекламе 0,21. В видеорекламе по сумме выручки сильно выделяется Хьюстон, но в данном случае это не выглядит выбросом.\n",
    "\n",
    "6) Исходя из данных в таблице, выбросов в выручке нет, доход распределен близко к равномерному.\n",
    "\n",
    "7) Большая часть доходов (63,5%) содержит информацию о городе пользователя.\n",
    "\n",
    "    \n",
    "    \n",
    "\n",
    "\n",
    "\n",
    "\n"
   ]
  }
 ],
 "metadata": {
  "kernelspec": {
   "display_name": "Python 3 (ipykernel)",
   "language": "python",
   "name": "python3"
  },
  "language_info": {
   "codemirror_mode": {
    "name": "ipython",
    "version": 3
   },
   "file_extension": ".py",
   "mimetype": "text/x-python",
   "name": "python",
   "nbconvert_exporter": "python",
   "pygments_lexer": "ipython3",
   "version": "3.9.7"
  },
  "toc": {
   "base_numbering": 1,
   "nav_menu": {},
   "number_sections": true,
   "sideBar": true,
   "skip_h1_title": true,
   "title_cell": "Table of Contents",
   "title_sidebar": "Contents",
   "toc_cell": true,
   "toc_position": {},
   "toc_section_display": true,
   "toc_window_display": false
  }
 },
 "nbformat": 4,
 "nbformat_minor": 5
}
